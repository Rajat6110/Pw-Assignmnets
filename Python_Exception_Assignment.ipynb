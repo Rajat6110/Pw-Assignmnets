{
 "cells": [
  {
   "cell_type": "markdown",
   "id": "bb649455",
   "metadata": {},
   "source": [
    "### Question 1: What is the difference between interpreted and compiled languages"
   ]
  },
  {
   "cell_type": "code",
   "execution_count": 1,
   "id": "62c9176c",
   "metadata": {},
   "outputs": [
    {
     "name": "stdout",
     "output_type": "stream",
     "text": [
      "Interpreted languages execute code line-by-line (e.g., Python), while compiled languages convert code into machine code before execution (e.g., C++).\n"
     ]
    }
   ],
   "source": [
    "# Answer:\n",
    "print('''Interpreted languages execute code line-by-line (e.g., Python), while compiled languages convert code into machine code before execution (e.g., C++).''')"
   ]
  },
  {
   "cell_type": "markdown",
   "id": "224f664a",
   "metadata": {},
   "source": [
    "### Question 2: What is exception handling in Python"
   ]
  },
  {
   "cell_type": "code",
   "execution_count": 2,
   "id": "f11b55a9",
   "metadata": {},
   "outputs": [
    {
     "name": "stdout",
     "output_type": "stream",
     "text": [
      "It is a mechanism to handle runtime errors using try, except, else, and finally blocks to prevent program crashes.\n"
     ]
    }
   ],
   "source": [
    "# Answer:\n",
    "print('''It is a mechanism to handle runtime errors using try, except, else, and finally blocks to prevent program crashes.''')"
   ]
  },
  {
   "cell_type": "markdown",
   "id": "e0fbcf9c",
   "metadata": {},
   "source": [
    "### Question 3: What is the purpose of the finally block in exception handling"
   ]
  },
  {
   "cell_type": "code",
   "execution_count": 3,
   "id": "b90c8f0e",
   "metadata": {},
   "outputs": [
    {
     "name": "stdout",
     "output_type": "stream",
     "text": [
      "The finally block runs no matter what — whether an exception occurs or not — usually for cleanup operations.\n"
     ]
    }
   ],
   "source": [
    "# Answer:\n",
    "print('''The finally block runs no matter what — whether an exception occurs or not — usually for cleanup operations.''')"
   ]
  },
  {
   "cell_type": "markdown",
   "id": "d4498936",
   "metadata": {},
   "source": [
    "### Question 4: What is logging in Python"
   ]
  },
  {
   "cell_type": "code",
   "execution_count": 4,
   "id": "0a8b24f0",
   "metadata": {},
   "outputs": [
    {
     "name": "stdout",
     "output_type": "stream",
     "text": [
      "Logging is used to record messages about program execution, errors, and events for debugging and tracking.\n"
     ]
    }
   ],
   "source": [
    "# Answer:\n",
    "print('''Logging is used to record messages about program execution, errors, and events for debugging and tracking.''')"
   ]
  },
  {
   "cell_type": "markdown",
   "id": "1c48c85e",
   "metadata": {},
   "source": [
    "### Question 5: What is the significance of the __del__ method in Python"
   ]
  },
  {
   "cell_type": "code",
   "execution_count": 5,
   "id": "c565540c",
   "metadata": {},
   "outputs": [
    {
     "name": "stdout",
     "output_type": "stream",
     "text": [
      "It is a destructor method that is called automatically when an object is deleted or goes out of scope.\n"
     ]
    }
   ],
   "source": [
    "# Answer:\n",
    "print('''It is a destructor method that is called automatically when an object is deleted or goes out of scope.''')"
   ]
  },
  {
   "cell_type": "markdown",
   "id": "abf8b78c",
   "metadata": {},
   "source": [
    "### Question 6: What is the difference between import and from ... import in Python"
   ]
  },
  {
   "cell_type": "code",
   "execution_count": 6,
   "id": "58b55d8e",
   "metadata": {},
   "outputs": [
    {
     "name": "stdout",
     "output_type": "stream",
     "text": [
      "`import` brings the whole module, while `from module import name` imports specific objects from it.\n"
     ]
    }
   ],
   "source": [
    "# Answer:\n",
    "print('''`import` brings the whole module, while `from module import name` imports specific objects from it.''')"
   ]
  },
  {
   "cell_type": "markdown",
   "id": "8ff802e4",
   "metadata": {},
   "source": [
    "### Question 7: How can you handle multiple exceptions in Python"
   ]
  },
  {
   "cell_type": "code",
   "execution_count": 7,
   "id": "b85f1781",
   "metadata": {},
   "outputs": [
    {
     "name": "stdout",
     "output_type": "stream",
     "text": [
      "By listing multiple except clauses or combining exceptions in a tuple.\n"
     ]
    }
   ],
   "source": [
    "# Answer:\n",
    "print('''By listing multiple except clauses or combining exceptions in a tuple.''')"
   ]
  },
  {
   "cell_type": "markdown",
   "id": "19da077e",
   "metadata": {},
   "source": [
    "### Question 8: What is the purpose of the with statement when handling files in Python"
   ]
  },
  {
   "cell_type": "code",
   "execution_count": 8,
   "id": "d50b4704",
   "metadata": {},
   "outputs": [
    {
     "name": "stdout",
     "output_type": "stream",
     "text": [
      "It ensures the file is properly closed after use, even if an error occurs.\n"
     ]
    }
   ],
   "source": [
    "# Answer:\n",
    "print('''It ensures the file is properly closed after use, even if an error occurs.''')"
   ]
  },
  {
   "cell_type": "markdown",
   "id": "38ff356b",
   "metadata": {},
   "source": [
    "### Question 9: What is the difference between multithreading and multiprocessing"
   ]
  },
  {
   "cell_type": "code",
   "execution_count": 9,
   "id": "2ab3c787",
   "metadata": {},
   "outputs": [
    {
     "name": "stdout",
     "output_type": "stream",
     "text": [
      "Multithreading shares the same memory space, while multiprocessing runs on separate memory and CPU cores.\n"
     ]
    }
   ],
   "source": [
    "# Answer:\n",
    "print('''Multithreading shares the same memory space, while multiprocessing runs on separate memory and CPU cores.''')"
   ]
  },
  {
   "cell_type": "markdown",
   "id": "22b4ed68",
   "metadata": {},
   "source": [
    "### Question 10: What are the advantages of using logging in a program"
   ]
  },
  {
   "cell_type": "code",
   "execution_count": 10,
   "id": "74403023",
   "metadata": {},
   "outputs": [
    {
     "name": "stdout",
     "output_type": "stream",
     "text": [
      "It helps in debugging, monitoring, and recording errors without interrupting program flow.\n"
     ]
    }
   ],
   "source": [
    "# Answer:\n",
    "print('''It helps in debugging, monitoring, and recording errors without interrupting program flow.''')"
   ]
  },
  {
   "cell_type": "markdown",
   "id": "a8a85a88",
   "metadata": {},
   "source": [
    "### Question 11: What is memory management in Python"
   ]
  },
  {
   "cell_type": "code",
   "execution_count": 11,
   "id": "a6e2d8ea",
   "metadata": {},
   "outputs": [
    {
     "name": "stdout",
     "output_type": "stream",
     "text": [
      "It is the process of allocating and freeing memory automatically using Python’s garbage collector.\n"
     ]
    }
   ],
   "source": [
    "# Answer:\n",
    "print('''It is the process of allocating and freeing memory automatically using Python’s garbage collector.''')"
   ]
  },
  {
   "cell_type": "markdown",
   "id": "49381424",
   "metadata": {},
   "source": [
    "### Question 12: What are the basic steps involved in exception handling in Python"
   ]
  },
  {
   "cell_type": "code",
   "execution_count": 12,
   "id": "1bdd8baf",
   "metadata": {},
   "outputs": [
    {
     "name": "stdout",
     "output_type": "stream",
     "text": [
      "Use try, except, else, and finally blocks to handle errors gracefully.\n"
     ]
    }
   ],
   "source": [
    "# Answer:\n",
    "print('''Use try, except, else, and finally blocks to handle errors gracefully.''')"
   ]
  },
  {
   "cell_type": "markdown",
   "id": "d9cce1f9",
   "metadata": {},
   "source": [
    "### Question 13: Why is memory management important in Python"
   ]
  },
  {
   "cell_type": "code",
   "execution_count": 13,
   "id": "cbe4ece2",
   "metadata": {},
   "outputs": [
    {
     "name": "stdout",
     "output_type": "stream",
     "text": [
      "It ensures efficient memory use and prevents memory leaks.\n"
     ]
    }
   ],
   "source": [
    "# Answer:\n",
    "print('''It ensures efficient memory use and prevents memory leaks.''')"
   ]
  },
  {
   "cell_type": "markdown",
   "id": "a3a6e312",
   "metadata": {},
   "source": [
    "### Question 14: What is the role of try and except in exception handling"
   ]
  },
  {
   "cell_type": "code",
   "execution_count": 14,
   "id": "1feefd31",
   "metadata": {},
   "outputs": [
    {
     "name": "stdout",
     "output_type": "stream",
     "text": [
      "They help detect and handle errors without crashing the program.\n"
     ]
    }
   ],
   "source": [
    "# Answer:\n",
    "print('''They help detect and handle errors without crashing the program.''')"
   ]
  },
  {
   "cell_type": "markdown",
   "id": "92e2a4aa",
   "metadata": {},
   "source": [
    "### Question 15: How does Python's garbage collection system work"
   ]
  },
  {
   "cell_type": "code",
   "execution_count": 15,
   "id": "fcd2ca14",
   "metadata": {},
   "outputs": [
    {
     "name": "stdout",
     "output_type": "stream",
     "text": [
      "It automatically deletes unused objects using reference counting and cyclic garbage collection.\n"
     ]
    }
   ],
   "source": [
    "# Answer:\n",
    "print('''It automatically deletes unused objects using reference counting and cyclic garbage collection.''')"
   ]
  },
  {
   "cell_type": "markdown",
   "id": "1cc09498",
   "metadata": {},
   "source": [
    "### Question 16: What is the purpose of the else block in exception handling"
   ]
  },
  {
   "cell_type": "code",
   "execution_count": 16,
   "id": "7703414c",
   "metadata": {},
   "outputs": [
    {
     "name": "stdout",
     "output_type": "stream",
     "text": [
      "It runs only if no exception occurs in the try block.\n"
     ]
    }
   ],
   "source": [
    "# Answer:\n",
    "print('''It runs only if no exception occurs in the try block.''')"
   ]
  },
  {
   "cell_type": "markdown",
   "id": "c560744b",
   "metadata": {},
   "source": [
    "### Question 17: What are the common logging levels in Python"
   ]
  },
  {
   "cell_type": "code",
   "execution_count": 17,
   "id": "21777136",
   "metadata": {},
   "outputs": [
    {
     "name": "stdout",
     "output_type": "stream",
     "text": [
      "DEBUG, INFO, WARNING, ERROR, and CRITICAL.\n"
     ]
    }
   ],
   "source": [
    "# Answer:\n",
    "print('''DEBUG, INFO, WARNING, ERROR, and CRITICAL.''')"
   ]
  },
  {
   "cell_type": "markdown",
   "id": "900f6b12",
   "metadata": {},
   "source": [
    "### Question 18: What is the difference between os.fork() and multiprocessing in Python"
   ]
  },
  {
   "cell_type": "code",
   "execution_count": 18,
   "id": "ba1def56",
   "metadata": {},
   "outputs": [
    {
     "name": "stdout",
     "output_type": "stream",
     "text": [
      "`os.fork()` is Unix-specific and low-level, while `multiprocessing` is cross-platform and higher-level.\n"
     ]
    }
   ],
   "source": [
    "# Answer:\n",
    "print('''`os.fork()` is Unix-specific and low-level, while `multiprocessing` is cross-platform and higher-level.''')"
   ]
  },
  {
   "cell_type": "markdown",
   "id": "af9b60de",
   "metadata": {},
   "source": [
    "### Question 19: What is the importance of closing a file in Python"
   ]
  },
  {
   "cell_type": "code",
   "execution_count": 19,
   "id": "942dae0e",
   "metadata": {},
   "outputs": [
    {
     "name": "stdout",
     "output_type": "stream",
     "text": [
      "To free system resources and ensure data is written properly.\n"
     ]
    }
   ],
   "source": [
    "# Answer:\n",
    "print('''To free system resources and ensure data is written properly.''')"
   ]
  },
  {
   "cell_type": "markdown",
   "id": "ce44a894",
   "metadata": {},
   "source": [
    "### Question 20: What is the difference between file.read() and file.readline() in Python"
   ]
  },
  {
   "cell_type": "code",
   "execution_count": 20,
   "id": "64b202bd",
   "metadata": {},
   "outputs": [
    {
     "name": "stdout",
     "output_type": "stream",
     "text": [
      "`read()` reads the whole file; `readline()` reads one line at a time.\n"
     ]
    }
   ],
   "source": [
    "# Answer:\n",
    "print('''`read()` reads the whole file; `readline()` reads one line at a time.''')"
   ]
  },
  {
   "cell_type": "markdown",
   "id": "ca1c4eb2",
   "metadata": {},
   "source": [
    "### Question 21: What is the logging module in Python used for"
   ]
  },
  {
   "cell_type": "code",
   "execution_count": 21,
   "id": "b9348ae0",
   "metadata": {},
   "outputs": [
    {
     "name": "stdout",
     "output_type": "stream",
     "text": [
      "It is used to record log messages to the console or files for debugging and tracking.\n"
     ]
    }
   ],
   "source": [
    "# Answer:\n",
    "print('''It is used to record log messages to the console or files for debugging and tracking.''')"
   ]
  },
  {
   "cell_type": "markdown",
   "id": "67db6df8",
   "metadata": {},
   "source": [
    "### Question 22: What is the os module in Python used for in file handling"
   ]
  },
  {
   "cell_type": "code",
   "execution_count": 22,
   "id": "3174ce67",
   "metadata": {},
   "outputs": [
    {
     "name": "stdout",
     "output_type": "stream",
     "text": [
      "It provides functions to interact with the operating system like file paths, directories, and environment variables.\n"
     ]
    }
   ],
   "source": [
    "# Answer:\n",
    "print('''It provides functions to interact with the operating system like file paths, directories, and environment variables.''')"
   ]
  },
  {
   "cell_type": "markdown",
   "id": "750d0888",
   "metadata": {},
   "source": [
    "### Question 23: What are the challenges associated with memory management in Python"
   ]
  },
  {
   "cell_type": "code",
   "execution_count": 23,
   "id": "fbad1c23",
   "metadata": {},
   "outputs": [
    {
     "name": "stdout",
     "output_type": "stream",
     "text": [
      "Garbage collection overhead, circular references, and memory fragmentation.\n"
     ]
    }
   ],
   "source": [
    "# Answer:\n",
    "print('''Garbage collection overhead, circular references, and memory fragmentation.''')"
   ]
  },
  {
   "cell_type": "markdown",
   "id": "734b1bd4",
   "metadata": {},
   "source": [
    "### Question 24: How do you raise an exception manually in Python"
   ]
  },
  {
   "cell_type": "code",
   "execution_count": 24,
   "id": "6f2b7b08",
   "metadata": {},
   "outputs": [
    {
     "name": "stdout",
     "output_type": "stream",
     "text": [
      "Using the `raise` keyword followed by an Exception type.\n"
     ]
    }
   ],
   "source": [
    "# Answer:\n",
    "print('''Using the `raise` keyword followed by an Exception type.''')"
   ]
  },
  {
   "cell_type": "markdown",
   "id": "29b3959b",
   "metadata": {},
   "source": [
    "### Question 25: Why is it important to use multithreading in certain applications"
   ]
  },
  {
   "cell_type": "code",
   "execution_count": 25,
   "id": "9cc0ab54",
   "metadata": {},
   "outputs": [
    {
     "name": "stdout",
     "output_type": "stream",
     "text": [
      "It allows concurrent execution, improving speed for I/O-bound tasks.\n"
     ]
    }
   ],
   "source": [
    "# Answer:\n",
    "print('''It allows concurrent execution, improving speed for I/O-bound tasks.''')"
   ]
  },
  {
   "cell_type": "markdown",
   "id": "c286773d",
   "metadata": {},
   "source": [
    "### Question 26: How can you open a file for writing in Python and write a string to it"
   ]
  },
  {
   "cell_type": "code",
   "execution_count": 26,
   "id": "0e3d2492",
   "metadata": {},
   "outputs": [],
   "source": [
    "with open(\"example.txt\", \"w\") as f:\n",
    "    f.write(\"Hello, World!\")"
   ]
  },
  {
   "cell_type": "markdown",
   "id": "93688acc",
   "metadata": {},
   "source": [
    "### Question 27: Write a Python program to read the contents of a file and print each line"
   ]
  },
  {
   "cell_type": "code",
   "execution_count": 27,
   "id": "2e0d3956",
   "metadata": {},
   "outputs": [
    {
     "name": "stdout",
     "output_type": "stream",
     "text": [
      "Hello, World!\n"
     ]
    }
   ],
   "source": [
    "with open(\"example.txt\", \"r\") as f:\n",
    "    for line in f:\n",
    "        print(line.strip())"
   ]
  },
  {
   "cell_type": "markdown",
   "id": "cf91c2b7",
   "metadata": {},
   "source": [
    "### Question 28: How would you handle a case where the file doesn't exist while trying to open it for reading"
   ]
  },
  {
   "cell_type": "code",
   "execution_count": 28,
   "id": "409879b7",
   "metadata": {},
   "outputs": [
    {
     "name": "stdout",
     "output_type": "stream",
     "text": [
      "File not found!\n"
     ]
    }
   ],
   "source": [
    "try:\n",
    "    with open(\"nofile.txt\", \"r\") as f:\n",
    "        print(f.read())\n",
    "except FileNotFoundError:\n",
    "    print(\"File not found!\")"
   ]
  },
  {
   "cell_type": "markdown",
   "id": "32e5ff45",
   "metadata": {},
   "source": [
    "### Question 29: Write a Python script that reads from one file and writes its content to another file"
   ]
  },
  {
   "cell_type": "code",
   "execution_count": 29,
   "id": "5f46cca1",
   "metadata": {},
   "outputs": [
    {
     "ename": "FileNotFoundError",
     "evalue": "[Errno 2] No such file or directory: 'source.txt'",
     "output_type": "error",
     "traceback": [
      "\u001b[1;31m---------------------------------------------------------------------------\u001b[0m",
      "\u001b[1;31mFileNotFoundError\u001b[0m                         Traceback (most recent call last)",
      "Cell \u001b[1;32mIn[29], line 1\u001b[0m\n\u001b[1;32m----> 1\u001b[0m \u001b[38;5;28;01mwith\u001b[39;00m \u001b[38;5;28;43mopen\u001b[39;49m\u001b[43m(\u001b[49m\u001b[38;5;124;43m\"\u001b[39;49m\u001b[38;5;124;43msource.txt\u001b[39;49m\u001b[38;5;124;43m\"\u001b[39;49m\u001b[43m,\u001b[49m\u001b[43m \u001b[49m\u001b[38;5;124;43m\"\u001b[39;49m\u001b[38;5;124;43mr\u001b[39;49m\u001b[38;5;124;43m\"\u001b[39;49m\u001b[43m)\u001b[49m \u001b[38;5;28;01mas\u001b[39;00m src, \u001b[38;5;28mopen\u001b[39m(\u001b[38;5;124m\"\u001b[39m\u001b[38;5;124mdest.txt\u001b[39m\u001b[38;5;124m\"\u001b[39m, \u001b[38;5;124m\"\u001b[39m\u001b[38;5;124mw\u001b[39m\u001b[38;5;124m\"\u001b[39m) \u001b[38;5;28;01mas\u001b[39;00m dst:\n\u001b[0;32m      2\u001b[0m     dst\u001b[38;5;241m.\u001b[39mwrite(src\u001b[38;5;241m.\u001b[39mread())\n",
      "File \u001b[1;32mc:\\Users\\VICTUS\\AppData\\Local\\Programs\\Python\\Python311\\Lib\\site-packages\\IPython\\core\\interactiveshell.py:284\u001b[0m, in \u001b[0;36m_modified_open\u001b[1;34m(file, *args, **kwargs)\u001b[0m\n\u001b[0;32m    277\u001b[0m \u001b[38;5;28;01mif\u001b[39;00m file \u001b[38;5;129;01min\u001b[39;00m {\u001b[38;5;241m0\u001b[39m, \u001b[38;5;241m1\u001b[39m, \u001b[38;5;241m2\u001b[39m}:\n\u001b[0;32m    278\u001b[0m     \u001b[38;5;28;01mraise\u001b[39;00m \u001b[38;5;167;01mValueError\u001b[39;00m(\n\u001b[0;32m    279\u001b[0m         \u001b[38;5;124mf\u001b[39m\u001b[38;5;124m\"\u001b[39m\u001b[38;5;124mIPython won\u001b[39m\u001b[38;5;124m'\u001b[39m\u001b[38;5;124mt let you open fd=\u001b[39m\u001b[38;5;132;01m{\u001b[39;00mfile\u001b[38;5;132;01m}\u001b[39;00m\u001b[38;5;124m by default \u001b[39m\u001b[38;5;124m\"\u001b[39m\n\u001b[0;32m    280\u001b[0m         \u001b[38;5;124m\"\u001b[39m\u001b[38;5;124mas it is likely to crash IPython. If you know what you are doing, \u001b[39m\u001b[38;5;124m\"\u001b[39m\n\u001b[0;32m    281\u001b[0m         \u001b[38;5;124m\"\u001b[39m\u001b[38;5;124myou can use builtins\u001b[39m\u001b[38;5;124m'\u001b[39m\u001b[38;5;124m open.\u001b[39m\u001b[38;5;124m\"\u001b[39m\n\u001b[0;32m    282\u001b[0m     )\n\u001b[1;32m--> 284\u001b[0m \u001b[38;5;28;01mreturn\u001b[39;00m \u001b[43mio_open\u001b[49m\u001b[43m(\u001b[49m\u001b[43mfile\u001b[49m\u001b[43m,\u001b[49m\u001b[43m \u001b[49m\u001b[38;5;241;43m*\u001b[39;49m\u001b[43margs\u001b[49m\u001b[43m,\u001b[49m\u001b[43m \u001b[49m\u001b[38;5;241;43m*\u001b[39;49m\u001b[38;5;241;43m*\u001b[39;49m\u001b[43mkwargs\u001b[49m\u001b[43m)\u001b[49m\n",
      "\u001b[1;31mFileNotFoundError\u001b[0m: [Errno 2] No such file or directory: 'source.txt'"
     ]
    }
   ],
   "source": [
    "with open(\"source.txt\", \"r\") as src, open(\"dest.txt\", \"w\") as dst:\n",
    "    dst.write(src.read())"
   ]
  },
  {
   "cell_type": "markdown",
   "id": "56395ef4",
   "metadata": {},
   "source": [
    "### Question 30: How would you catch and handle division by zero error in Python"
   ]
  },
  {
   "cell_type": "code",
   "execution_count": 30,
   "id": "d09377cc",
   "metadata": {},
   "outputs": [
    {
     "name": "stdout",
     "output_type": "stream",
     "text": [
      "Cannot divide by zero!\n"
     ]
    }
   ],
   "source": [
    "try:\n",
    "    result = 10 / 0\n",
    "except ZeroDivisionError:\n",
    "    print(\"Cannot divide by zero!\")"
   ]
  },
  {
   "cell_type": "markdown",
   "id": "3026ff75",
   "metadata": {},
   "source": [
    "### Question 31: Write a Python program that logs an error message to a log file when a division by zero exception occurs"
   ]
  },
  {
   "cell_type": "code",
   "execution_count": 31,
   "id": "88a351bd",
   "metadata": {},
   "outputs": [],
   "source": [
    "import logging\n",
    "logging.basicConfig(filename=\"error.log\", level=logging.ERROR)\n",
    "try:\n",
    "    x = 5 / 0\n",
    "except ZeroDivisionError as e:\n",
    "    logging.error(\"Division by zero error: %s\", e)"
   ]
  },
  {
   "cell_type": "markdown",
   "id": "3e615ffd",
   "metadata": {},
   "source": [
    "### Question 32: How do you log information at different levels (INFO, ERROR, WARNING) in Python using the logging module"
   ]
  },
  {
   "cell_type": "code",
   "execution_count": 32,
   "id": "3ac0cda4",
   "metadata": {},
   "outputs": [],
   "source": [
    "import logging\n",
    "logging.basicConfig(level=logging.DEBUG)\n",
    "logging.info(\"Info message\")\n",
    "logging.warning(\"Warning message\")\n",
    "logging.error(\"Error message\")"
   ]
  },
  {
   "cell_type": "markdown",
   "id": "b0c7cf58",
   "metadata": {},
   "source": [
    "### Question 33: Write a program to handle a file opening error using exception handling"
   ]
  },
  {
   "cell_type": "code",
   "execution_count": 33,
   "id": "c47f4422",
   "metadata": {},
   "outputs": [
    {
     "name": "stdout",
     "output_type": "stream",
     "text": [
      "File cannot be opened!\n"
     ]
    }
   ],
   "source": [
    "try:\n",
    "    open(\"nonexistent.txt\")\n",
    "except IOError:\n",
    "    print(\"File cannot be opened!\")"
   ]
  },
  {
   "cell_type": "markdown",
   "id": "dceed613",
   "metadata": {},
   "source": [
    "### Question 34: How can you read a file line by line and store its content in a list in Python"
   ]
  },
  {
   "cell_type": "code",
   "execution_count": 35,
   "id": "2c85106d",
   "metadata": {},
   "outputs": [
    {
     "name": "stdout",
     "output_type": "stream",
     "text": [
      "['Hello, World!']\n"
     ]
    }
   ],
   "source": [
    "with open(\"example.txt\", \"r\") as f:\n",
    "    lines = f.readlines()\n",
    "print(lines)"
   ]
  },
  {
   "cell_type": "markdown",
   "id": "7155242f",
   "metadata": {},
   "source": [
    "### Question 35: How can you append data to an existing file in Python"
   ]
  },
  {
   "cell_type": "code",
   "execution_count": 36,
   "id": "59e848b7",
   "metadata": {},
   "outputs": [],
   "source": [
    "with open(\"example.txt\", \"a\") as f:\n",
    "    f.write(\"\\nNew line added.\")"
   ]
  },
  {
   "cell_type": "markdown",
   "id": "6047e9ae",
   "metadata": {},
   "source": [
    "### Question 36: Write a Python program that uses a try-except block to handle an error when attempting to access a dictionary key that doesn't exist"
   ]
  },
  {
   "cell_type": "code",
   "execution_count": 37,
   "id": "a0fdd45d",
   "metadata": {},
   "outputs": [
    {
     "name": "stdout",
     "output_type": "stream",
     "text": [
      "Key not found!\n"
     ]
    }
   ],
   "source": [
    "data = {\"name\": \"Rajat\"}\n",
    "try:\n",
    "    print(data[\"age\"])\n",
    "except KeyError:\n",
    "    print(\"Key not found!\")"
   ]
  },
  {
   "cell_type": "markdown",
   "id": "f86bfaf4",
   "metadata": {},
   "source": [
    "### Question 37: Write a program that demonstrates using multiple except blocks to handle different types of exceptions"
   ]
  },
  {
   "cell_type": "code",
   "execution_count": 38,
   "id": "5cb447f4",
   "metadata": {},
   "outputs": [
    {
     "name": "stdout",
     "output_type": "stream",
     "text": [
      "Value error!\n"
     ]
    }
   ],
   "source": [
    "try:\n",
    "    x = int(\"abc\")\n",
    "    y = 10 / 0\n",
    "except ValueError:\n",
    "    print(\"Value error!\")\n",
    "except ZeroDivisionError:\n",
    "    print(\"Division error!\")"
   ]
  },
  {
   "cell_type": "markdown",
   "id": "eae1f107",
   "metadata": {},
   "source": [
    "### Question 38: How would you check if a file exists before attempting to read it in Python"
   ]
  },
  {
   "cell_type": "code",
   "execution_count": 39,
   "id": "59649d78",
   "metadata": {},
   "outputs": [
    {
     "name": "stdout",
     "output_type": "stream",
     "text": [
      "Hello, World!\n",
      "New line added.\n"
     ]
    }
   ],
   "source": [
    "import os\n",
    "if os.path.exists(\"example.txt\"):\n",
    "    with open(\"example.txt\") as f:\n",
    "        print(f.read())\n",
    "else:\n",
    "    print(\"File does not exist.\")"
   ]
  },
  {
   "cell_type": "markdown",
   "id": "8ff02107",
   "metadata": {},
   "source": [
    "### Question 39: Write a program that uses the logging module to log both informational and error messages"
   ]
  },
  {
   "cell_type": "code",
   "execution_count": 40,
   "id": "e5108a7d",
   "metadata": {},
   "outputs": [],
   "source": [
    "import logging\n",
    "logging.basicConfig(filename=\"app.log\", level=logging.INFO)\n",
    "logging.info(\"Program started\")\n",
    "try:\n",
    "    1 / 0\n",
    "except ZeroDivisionError:\n",
    "    logging.error(\"Division by zero\")"
   ]
  },
  {
   "cell_type": "markdown",
   "id": "7051f8a8",
   "metadata": {},
   "source": [
    "### Question 40: Write a Python program that prints the content of a file and handles the case when the file is empty"
   ]
  },
  {
   "cell_type": "code",
   "execution_count": 41,
   "id": "46da021b",
   "metadata": {},
   "outputs": [
    {
     "name": "stdout",
     "output_type": "stream",
     "text": [
      "Hello, World!\n",
      "New line added.\n"
     ]
    }
   ],
   "source": [
    "with open(\"example.txt\", \"r\") as f:\n",
    "    content = f.read()\n",
    "    if not content:\n",
    "        print(\"File is empty\")\n",
    "    else:\n",
    "        print(content)"
   ]
  },
  {
   "cell_type": "markdown",
   "id": "ba04caf4",
   "metadata": {},
   "source": [
    "### Question 41: Demonstrate how to use memory profiling to check the memory usage of a small program"
   ]
  },
  {
   "cell_type": "code",
   "execution_count": 42,
   "id": "73388815",
   "metadata": {},
   "outputs": [
    {
     "ename": "ModuleNotFoundError",
     "evalue": "No module named 'memory_profiler'",
     "output_type": "error",
     "traceback": [
      "\u001b[1;31m---------------------------------------------------------------------------\u001b[0m",
      "\u001b[1;31mModuleNotFoundError\u001b[0m                       Traceback (most recent call last)",
      "Cell \u001b[1;32mIn[42], line 1\u001b[0m\n\u001b[1;32m----> 1\u001b[0m \u001b[38;5;28;01mfrom\u001b[39;00m \u001b[38;5;21;01mmemory_profiler\u001b[39;00m \u001b[38;5;28;01mimport\u001b[39;00m profile\n\u001b[0;32m      3\u001b[0m \u001b[38;5;129m@profile\u001b[39m\n\u001b[0;32m      4\u001b[0m \u001b[38;5;28;01mdef\u001b[39;00m \u001b[38;5;21mtest\u001b[39m():\n\u001b[0;32m      5\u001b[0m     x \u001b[38;5;241m=\u001b[39m [i \u001b[38;5;28;01mfor\u001b[39;00m i \u001b[38;5;129;01min\u001b[39;00m \u001b[38;5;28mrange\u001b[39m(\u001b[38;5;241m10000\u001b[39m)]\n",
      "\u001b[1;31mModuleNotFoundError\u001b[0m: No module named 'memory_profiler'"
     ]
    }
   ],
   "source": [
    "from memory_profiler import profile\n",
    "\n",
    "@profile\n",
    "def test():\n",
    "    x = [i for i in range(10000)]\n",
    "    return x\n",
    "\n",
    "test()"
   ]
  },
  {
   "cell_type": "markdown",
   "id": "389ee0fb",
   "metadata": {},
   "source": [
    "### Question 42: Write a Python program to create and write a list of numbers to a file, one number per line"
   ]
  },
  {
   "cell_type": "code",
   "execution_count": 43,
   "id": "295c218d",
   "metadata": {},
   "outputs": [],
   "source": [
    "numbers = [1, 2, 3, 4, 5]\n",
    "with open(\"numbers.txt\", \"w\") as f:\n",
    "    for n in numbers:\n",
    "        f.write(str(n) + \"\\n\")"
   ]
  },
  {
   "cell_type": "markdown",
   "id": "a45289d4",
   "metadata": {},
   "source": [
    "### Question 43: How would you implement a basic logging setup that logs to a file with rotation after 1MB"
   ]
  },
  {
   "cell_type": "code",
   "execution_count": 44,
   "id": "17d0c214",
   "metadata": {},
   "outputs": [],
   "source": [
    "import logging\n",
    "from logging.handlers import RotatingFileHandler\n",
    "handler = RotatingFileHandler(\"rotating.log\", maxBytes=1_000_000, backupCount=3)\n",
    "logging.basicConfig(handlers=[handler], level=logging.INFO)\n",
    "logging.info(\"Logging with rotation\")"
   ]
  },
  {
   "cell_type": "markdown",
   "id": "55820a4d",
   "metadata": {},
   "source": [
    "### Question 44: Write a program that handles both IndexError and KeyError using a try-except block"
   ]
  },
  {
   "cell_type": "code",
   "execution_count": 45,
   "id": "78f1b4eb",
   "metadata": {},
   "outputs": [
    {
     "name": "stdout",
     "output_type": "stream",
     "text": [
      "Key or index error!\n"
     ]
    }
   ],
   "source": [
    "data = {\"a\": 1}\n",
    "try:\n",
    "    print(data[\"b\"])\n",
    "    lst = [1]\n",
    "    print(lst[5])\n",
    "except (KeyError, IndexError):\n",
    "    print(\"Key or index error!\")"
   ]
  },
  {
   "cell_type": "markdown",
   "id": "01785129",
   "metadata": {},
   "source": [
    "### Question 45: How would you open a file and read its contents using a context manager in Python"
   ]
  },
  {
   "cell_type": "code",
   "execution_count": 46,
   "id": "b57eceee",
   "metadata": {},
   "outputs": [
    {
     "name": "stdout",
     "output_type": "stream",
     "text": [
      "Hello, World!\n",
      "New line added.\n"
     ]
    }
   ],
   "source": [
    "with open(\"example.txt\", \"r\") as f:\n",
    "    print(f.read())"
   ]
  },
  {
   "cell_type": "markdown",
   "id": "53263e2c",
   "metadata": {},
   "source": [
    "### Question 46: Write a Python program that reads a file and prints the number of occurrences of a specific word"
   ]
  },
  {
   "cell_type": "code",
   "execution_count": 47,
   "id": "e547515f",
   "metadata": {},
   "outputs": [
    {
     "name": "stdout",
     "output_type": "stream",
     "text": [
      "Occurrences of 'python': 0\n"
     ]
    }
   ],
   "source": [
    "word = \"python\"\n",
    "count = 0\n",
    "with open(\"example.txt\", \"r\") as f:\n",
    "    for line in f:\n",
    "        count += line.lower().count(word)\n",
    "print(f\"Occurrences of '{word}':\", count)"
   ]
  },
  {
   "cell_type": "markdown",
   "id": "eba06dde",
   "metadata": {},
   "source": [
    "### Question 47: How can you check if a file is empty before attempting to read its contents"
   ]
  },
  {
   "cell_type": "code",
   "execution_count": 48,
   "id": "a891f0b5",
   "metadata": {},
   "outputs": [
    {
     "name": "stdout",
     "output_type": "stream",
     "text": [
      "File has content\n"
     ]
    }
   ],
   "source": [
    "import os\n",
    "if os.stat(\"example.txt\").st_size == 0:\n",
    "    print(\"File is empty\")\n",
    "else:\n",
    "    print(\"File has content\")"
   ]
  },
  {
   "cell_type": "markdown",
   "id": "05ac15f3",
   "metadata": {},
   "source": [
    "### Question 48: Write a Python program that writes to a log file when an error occurs during file handling"
   ]
  },
  {
   "cell_type": "code",
   "execution_count": 49,
   "id": "044364e0",
   "metadata": {},
   "outputs": [],
   "source": [
    "import logging\n",
    "logging.basicConfig(filename=\"file_error.log\", level=logging.ERROR)\n",
    "try:\n",
    "    with open(\"missing.txt\", \"r\") as f:\n",
    "        print(f.read())\n",
    "except Exception as e:\n",
    "    logging.error(\"File handling error: %s\", e)"
   ]
  },
  {
   "cell_type": "code",
   "execution_count": null,
   "id": "91ac37a8",
   "metadata": {},
   "outputs": [],
   "source": []
  },
  {
   "cell_type": "code",
   "execution_count": null,
   "id": "a0fb0f2d",
   "metadata": {},
   "outputs": [],
   "source": []
  },
  {
   "cell_type": "code",
   "execution_count": null,
   "id": "7722392d",
   "metadata": {},
   "outputs": [],
   "source": []
  },
  {
   "cell_type": "code",
   "execution_count": null,
   "id": "fd3bf299",
   "metadata": {},
   "outputs": [],
   "source": []
  },
  {
   "cell_type": "code",
   "execution_count": null,
   "id": "5d954330",
   "metadata": {},
   "outputs": [],
   "source": []
  }
 ],
 "metadata": {
  "kernelspec": {
   "display_name": "Python 3",
   "language": "python",
   "name": "python3"
  },
  "language_info": {
   "codemirror_mode": {
    "name": "ipython",
    "version": 3
   },
   "file_extension": ".py",
   "mimetype": "text/x-python",
   "name": "python",
   "nbconvert_exporter": "python",
   "pygments_lexer": "ipython3",
   "version": "3.11.0"
  }
 },
 "nbformat": 4,
 "nbformat_minor": 5
}

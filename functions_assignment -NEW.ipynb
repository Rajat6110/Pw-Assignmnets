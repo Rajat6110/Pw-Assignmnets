{
 "cells": [
  {
   "cell_type": "markdown",
   "id": "0939b37c-df65-4503-a5be-0bd1f12c9a20",
   "metadata": {},
   "source": [
    "# FUNCTION ASSIGNMENT\n",
    " ## THEORY PART\n",
    " "
   ]
  },
  {
   "cell_type": "markdown",
   "id": "16725db5-06e5-4ffb-80ef-3f059f4a6112",
   "metadata": {},
   "source": [
    "# QUESTION 1\n",
    "## What is the difference between a function and a method in Python?"
   ]
  },
  {
   "cell_type": "code",
   "execution_count": 1,
   "id": "9c709aec-48c8-4416-805d-71f378d1b33c",
   "metadata": {},
   "outputs": [],
   "source": [
    "# Functions\n",
    "\n",
    "# Function is block of code that is also called by its name., Function increase the resuabilty of a code\n",
    "# The function can have different parameters or may not have any at all. If any data (parameters) are passed, they are passed explicitly.\n",
    "# It may or may not return any data.\n",
    "# Function does not deal with Class and its instance concept.\n",
    "  #(THATS WHY FUNCTION CALLED INDPENDENT\n",
    "    \n",
    "# Method\n",
    "\n",
    "# Method is called by its name, but it is associated to an object (dependent).\n",
    "# A method definition always includes ‘self’ as its first parameter.\n",
    "# A method is implicitly passed to the object on which it is invoked.\n",
    "# It may or may not return any data.\n",
    "# A method can operate on the data (instance variables) that is contained by the corresponding class\n",
    "\n",
    "# summary -\n",
    "# Functions: are independent, reusable blocks of code.\n",
    "# Methods: are functions that belong to an object and operate on its data.\n"
   ]
  },
  {
   "cell_type": "code",
   "execution_count": 2,
   "id": "5f1ae8b7-1577-4148-974d-31d455e5c9ad",
   "metadata": {},
   "outputs": [
    {
     "data": {
      "text/plain": [
       "25"
      ]
     },
     "execution_count": 2,
     "metadata": {},
     "output_type": "execute_result"
    }
   ],
   "source": [
    "#example of function\n",
    "def sq(n):\n",
    "    return n**2\n",
    "sq(5)\n"
   ]
  },
  {
   "cell_type": "code",
   "execution_count": 4,
   "id": "1c48de82-6df2-4e90-9946-72326b764be6",
   "metadata": {},
   "outputs": [
    {
     "name": "stdout",
     "output_type": "stream",
     "text": [
      "good morning\n"
     ]
    }
   ],
   "source": [
    "#example of method\n",
    "class A:\n",
    "    def greet(self):\n",
    "        print(\"good morning\")\n",
    "ob = A()\n",
    "ob.greet() "
   ]
  },
  {
   "cell_type": "markdown",
   "id": "6d71ceaf-11dd-4424-bf82-ad9cb362cfae",
   "metadata": {},
   "source": [
    "# Question 2\n",
    "##  Explain the concept of function arguments and parameters in Python."
   ]
  },
  {
   "cell_type": "code",
   "execution_count": 2,
   "id": "570ad440-5782-4a2a-88f8-4f94a9aa0d94",
   "metadata": {},
   "outputs": [],
   "source": [
    "# # parameters\n",
    "# -  Parameters are the variables used in the function definition.\n",
    "# -  Parameters are the variables listed inside the parentheses in the function definition. \n",
    "# -  They act as placeholders for the values that will be passed to the function when it is called\n",
    "\n",
    "\n",
    "\n",
    "# #arguments\n",
    "# -  Arguments are the variables passed to the function in the function call.\n",
    "# -  Arguments are the actual values passed to a function when it is called.\n",
    "# -  They correspond to the parameters defined in the function definition.\n",
    "\n",
    "\n",
    "#The number of arguments and parameters should always be equal except for the variable length argument list.\n"
   ]
  },
  {
   "cell_type": "code",
   "execution_count": 4,
   "id": "731fef05-8ea1-4e28-bf33-653eafdca49f",
   "metadata": {},
   "outputs": [],
   "source": [
    "def addition(a,b): #a,b are parameters\n",
    "    c = a+b\n",
    "    return c\n"
   ]
  },
  {
   "cell_type": "code",
   "execution_count": 7,
   "id": "8305c931-8e75-447a-82b0-63f58353d136",
   "metadata": {},
   "outputs": [
    {
     "name": "stdout",
     "output_type": "stream",
     "text": [
      "14\n"
     ]
    }
   ],
   "source": [
    "res = addition(5,9) # 5,9 are arguments\n",
    "print(res)"
   ]
  },
  {
   "cell_type": "markdown",
   "id": "f1d4d166-1df1-430c-be00-784fff24e7df",
   "metadata": {},
   "source": [
    "# Question 3\n",
    "##  What are the different ways to define and call a function in Python?"
   ]
  },
  {
   "cell_type": "code",
   "execution_count": 67,
   "id": "b21187cf-e058-4b16-b342-f97225105a36",
   "metadata": {},
   "outputs": [
    {
     "data": {
      "text/plain": [
       "'HEllo amitesh good eve'"
      ]
     },
     "execution_count": 67,
     "metadata": {},
     "output_type": "execute_result"
    }
   ],
   "source": [
    "#1. Defining Functions Using def Keyword\n",
    "def greet(name):\n",
    "    return f\"HEllo {name} good eve\"\n",
    "greet(\"amitesh\")\n"
   ]
  },
  {
   "cell_type": "code",
   "execution_count": 68,
   "id": "dd8f6ae4-d9e7-490f-a047-3f53a641f6c9",
   "metadata": {},
   "outputs": [
    {
     "data": {
      "text/plain": [
       "25"
      ]
     },
     "execution_count": 68,
     "metadata": {},
     "output_type": "execute_result"
    }
   ],
   "source": [
    " # 2 using lambda\n",
    "l = lambda x : x**2\n",
    "l(5)"
   ]
  },
  {
   "cell_type": "code",
   "execution_count": 69,
   "id": "fa432627-60f4-49ff-980f-a7b4d10f018a",
   "metadata": {},
   "outputs": [],
   "source": [
    "# 3 using nested fucntion\n",
    "def marks_in_subject(**kwargs):\n",
    "    def total_marks(marks_list):\n",
    "        return sum(marks_list)\n",
    "    marks_list = []\n",
    "    for sub,marks in kwargs.items():\n",
    "        marks_list.append(marks)\n",
    "    return total_marks(marks_list)"
   ]
  },
  {
   "cell_type": "code",
   "execution_count": 70,
   "id": "cf7f626c-ce1d-4228-bd68-bb1cf5bbf4a4",
   "metadata": {},
   "outputs": [
    {
     "data": {
      "text/plain": [
       "189"
      ]
     },
     "execution_count": 70,
     "metadata": {},
     "output_type": "execute_result"
    }
   ],
   "source": [
    "marks_in_subject(a = 90 , c = 99)"
   ]
  },
  {
   "cell_type": "code",
   "execution_count": 73,
   "id": "21feb45f-4851-4b10-8c09-b69f65a04398",
   "metadata": {},
   "outputs": [
    {
     "data": {
      "text/plain": [
       "149"
      ]
     },
     "execution_count": 73,
     "metadata": {},
     "output_type": "execute_result"
    }
   ],
   "source": [
    "# 4 - functions with default arguments\n",
    "def acha(a,b=89):\n",
    "    return a+b\n",
    "acha(60)\n"
   ]
  },
  {
   "cell_type": "code",
   "execution_count": null,
   "id": "5c85cdcb-486b-4d31-a1f3-53921047f835",
   "metadata": {},
   "outputs": [],
   "source": []
  },
  {
   "cell_type": "markdown",
   "id": "88dbb5ef-6c72-4156-b09d-4e8977d86d80",
   "metadata": {},
   "source": [
    "# Question 4\n",
    "## . What is the purpose of the `return` statement in a Python function?"
   ]
  },
  {
   "cell_type": "code",
   "execution_count": 9,
   "id": "ca249db2-046e-41db-8c2e-22b981044bbf",
   "metadata": {},
   "outputs": [],
   "source": [
    "# - A return is used when you want to stop a function from executing further\n",
    "# -  Determines the value that the function will return. If not included, the function defaults to returning None.\n"
   ]
  },
  {
   "cell_type": "code",
   "execution_count": 15,
   "id": "b784666b-9818-4228-b50f-1cebb7b26ffa",
   "metadata": {},
   "outputs": [],
   "source": [
    "def amitesh(name):\n",
    "    \n",
    "    return f\"GOOD morning {name}\"\n"
   ]
  },
  {
   "cell_type": "code",
   "execution_count": 16,
   "id": "91297263-5ccf-4742-a4e5-659c7d2c749c",
   "metadata": {},
   "outputs": [
    {
     "data": {
      "text/plain": [
       "'GOOD morning Rajat'"
      ]
     },
     "execution_count": 16,
     "metadata": {},
     "output_type": "execute_result"
    }
   ],
   "source": [
    "amitesh(\"Rajat\")"
   ]
  },
  {
   "cell_type": "code",
   "execution_count": 19,
   "id": "36f0b6c2-ceea-467f-9ea2-8407c356695f",
   "metadata": {},
   "outputs": [],
   "source": [
    "def mul(a,b):\n",
    "    return a*b # returns the value"
   ]
  },
  {
   "cell_type": "code",
   "execution_count": 20,
   "id": "d0789a05-4bfc-497b-bc79-ce9b8e208eda",
   "metadata": {},
   "outputs": [
    {
     "data": {
      "text/plain": [
       "20"
      ]
     },
     "execution_count": 20,
     "metadata": {},
     "output_type": "execute_result"
    }
   ],
   "source": [
    "mul(4,5)"
   ]
  },
  {
   "cell_type": "markdown",
   "id": "7617f799-cab8-4956-b244-8966eb18a7f3",
   "metadata": {},
   "source": [
    "# Question 5\n",
    "## What are iterators in Python and how do they differ from iterables"
   ]
  },
  {
   "cell_type": "code",
   "execution_count": 1,
   "id": "f64c1ede-7011-4b24-a517-df25974fedbb",
   "metadata": {},
   "outputs": [],
   "source": [
    "#  An iterator is an object that allows traversal through a countable number of values.\n",
    "#It is used to iterate over iterable objects like lists, tuples, sets, etc\n",
    "# iterable >>\n",
    "# An iterable is any Python data structure/object that is capable of returning its members one at a time\n",
    "# permitting it to be iterated over in a loop\n",
    "\n",
    "#Iterables are objects from which we can get an iterator.\n",
    "#They contain elements that can be looped over (like a list or string). When Python attempts to loop over an iterable,\n",
    "#it first calls the iterable's __iter__() method to get an iterator for the iterable."
   ]
  },
  {
   "cell_type": "code",
   "execution_count": 3,
   "id": "039025d9-94ae-495f-b591-0b2e3a5d153f",
   "metadata": {},
   "outputs": [
    {
     "name": "stdout",
     "output_type": "stream",
     "text": [
      "1\n",
      "2\n",
      "3\n"
     ]
    }
   ],
   "source": [
    "#example\n",
    "l = [1, 2, 3]  # This is an iterable\n",
    "\n",
    "# Create an iterator from the iterable\n",
    "iter_list = iter(l)\n",
    "\n",
    "\n",
    "print(next(iter_list))  \n",
    "print(next(iter_list))  \n",
    "print(next(iter_list))  "
   ]
  },
  {
   "cell_type": "markdown",
   "id": "508390c7-1512-4828-a24a-05072c4038e7",
   "metadata": {},
   "source": [
    "# Question 6\n",
    "## . Explain the concept of generators in Python and how they are defined."
   ]
  },
  {
   "cell_type": "code",
   "execution_count": 4,
   "id": "6e833bfa-add6-4ab0-9fb1-7e6291a8e1d2",
   "metadata": {},
   "outputs": [],
   "source": [
    "\n",
    "# Python generator functions allow you to declare a function that behaves like an iterator,\n",
    "# making it a faster, clean  and easier way to create an iterator.\n",
    "\n",
    "# Generators are defined using functions and the yield keyword.\n",
    "# When a generator function is called, it doesn’t actually run the function; instead, \n",
    "#it returns a special iterator called a generator object.\n",
    "\n",
    "#generator function uses yield keyword instead return"
   ]
  },
  {
   "cell_type": "code",
   "execution_count": 17,
   "id": "ccf776c7-3319-48d5-8220-1187b85eb0bf",
   "metadata": {},
   "outputs": [],
   "source": [
    "def sq(n):\n",
    "    for i in range(n):\n",
    "        yield i**2\n",
    "        "
   ]
  },
  {
   "cell_type": "code",
   "execution_count": 26,
   "id": "f8574663-01ec-4fba-a46a-3b0e1fcab05e",
   "metadata": {},
   "outputs": [],
   "source": [
    "gen = sq(5)"
   ]
  },
  {
   "cell_type": "code",
   "execution_count": 27,
   "id": "7604033b-daf2-4eaf-af3a-151880606436",
   "metadata": {},
   "outputs": [
    {
     "data": {
      "text/plain": [
       "0"
      ]
     },
     "execution_count": 27,
     "metadata": {},
     "output_type": "execute_result"
    }
   ],
   "source": [
    "next(gen)"
   ]
  },
  {
   "cell_type": "code",
   "execution_count": 28,
   "id": "1c0e425f-2c13-4c76-8aed-d5189368b344",
   "metadata": {},
   "outputs": [
    {
     "data": {
      "text/plain": [
       "1"
      ]
     },
     "execution_count": 28,
     "metadata": {},
     "output_type": "execute_result"
    }
   ],
   "source": [
    "next(gen)"
   ]
  },
  {
   "cell_type": "markdown",
   "id": "17079f86-0dd2-4e88-9b01-697f762f38a3",
   "metadata": {},
   "source": [
    "# Question 8\n",
    "## What is a lambda function in Python and when is it typically used?"
   ]
  },
  {
   "cell_type": "code",
   "execution_count": 30,
   "id": "9f520b08-906e-4bee-8f0a-3f70c4d86f39",
   "metadata": {},
   "outputs": [],
   "source": [
    "# Lambda functions are small, anonymous functions defined using the lambda keyword.\n",
    "# They are used for creating small, throwaway functions without the need to formally define a function using def\n",
    " #Lambda functions are single-line functions that can have any number of arguments but only one expression\n",
    "    \n",
    "   # When to Use Lambda Functions\n",
    "# 1-Simple, Short Functions: When you need a small function for a single use, such as in quick mathematical operations or transformations.\n",
    "\n",
    "# 2-Functions as Arguments: Lambda functions are often used as arguments to higher-order functions\n",
    "\n",
    "# 3- Sorting and Filtering: Lambda functions are frequently used for sorting and filtering data structures based on custom criteria."
   ]
  },
  {
   "cell_type": "code",
   "execution_count": 33,
   "id": "176a9ca5-d382-4bb6-9207-055fc5a4f485",
   "metadata": {},
   "outputs": [
    {
     "data": {
      "text/plain": [
       "[0, 1, 1, 2, 3, 5, 8, 13, 21, 34]"
      ]
     },
     "execution_count": 33,
     "metadata": {},
     "output_type": "execute_result"
    }
   ],
   "source": [
    "fib = lambda n : n if n<=1 else fib(n-1) + fib(n-2)\n",
    "[ fib(i) for i in range(10)]\n",
    "    "
   ]
  },
  {
   "cell_type": "code",
   "execution_count": 35,
   "id": "d7252c1e-988e-44e0-899b-f65daab21328",
   "metadata": {},
   "outputs": [],
   "source": [
    "mul = lambda x,y : x*y"
   ]
  },
  {
   "cell_type": "code",
   "execution_count": 36,
   "id": "697fbfea-beab-4e73-ba9b-b1ec130d0fb7",
   "metadata": {},
   "outputs": [
    {
     "data": {
      "text/plain": [
       "30"
      ]
     },
     "execution_count": 36,
     "metadata": {},
     "output_type": "execute_result"
    }
   ],
   "source": [
    "mul(5,6)"
   ]
  },
  {
   "cell_type": "markdown",
   "id": "8b4552e1-5e22-4890-891e-3880899e93da",
   "metadata": {},
   "source": [
    "# Question 9\n",
    "\n",
    "## Explain the purpose and usage of the `map()` function in Python"
   ]
  },
  {
   "cell_type": "code",
   "execution_count": 38,
   "id": "ac13ba49-5a47-4585-8646-4afc91d2fc72",
   "metadata": {},
   "outputs": [],
   "source": [
    "# map fucntion >> excutes specified fucntion for each of item of an iterable\n",
    "# syntax - map(func, iterables)\n",
    "\n",
    "# The map() function in Python applies a specified function to each item of an iterable (like a list, tuple, etc.) \n",
    "# and returns a map object (which is an iterator)\n",
    "# This map object can be converted to a list, tuple, or other data structures if needed."
   ]
  },
  {
   "cell_type": "code",
   "execution_count": 41,
   "id": "1d97dd00-4700-4bbc-a2ed-e05a857c9182",
   "metadata": {},
   "outputs": [
    {
     "data": {
      "text/plain": [
       "(1, 4, 9, 16, 25)"
      ]
     },
     "execution_count": 41,
     "metadata": {},
     "output_type": "execute_result"
    }
   ],
   "source": [
    "t= (1,2,3,4,5)\n",
    "def sq(n):\n",
    "    return n**2\n",
    "\n",
    "tuple(map(sq,t))"
   ]
  },
  {
   "cell_type": "code",
   "execution_count": 46,
   "id": "9e08e4dc-ecf6-474a-af44-ef88be1f7819",
   "metadata": {},
   "outputs": [
    {
     "data": {
      "text/plain": [
       "[11, 12, 13, 14, 15]"
      ]
     },
     "execution_count": 46,
     "metadata": {},
     "output_type": "execute_result"
    }
   ],
   "source": [
    "# map with lambda\n",
    "list(map(lambda x : x+10 , t))"
   ]
  },
  {
   "cell_type": "markdown",
   "id": "72f38cd9-e053-428c-a07b-cc39df59dc1a",
   "metadata": {},
   "source": [
    "# Question 10\n",
    "## . What is the difference between `map()`, `reduce()`, and `filter()` functions in Python?"
   ]
  },
  {
   "cell_type": "code",
   "execution_count": 48,
   "id": "7e727fbe-d4f6-4022-8244-f34ea76eca6f",
   "metadata": {},
   "outputs": [],
   "source": [
    "# Reduce\n",
    "# reduce >> folding , reduction\n",
    "# syntax - reduce(fucn, iterable)\n",
    "# reduce  will always take two argurmnts func\n",
    "\n",
    "#filter\n",
    "# it is use to filter elements from an iterable based on some condtions\n",
    "#syntax - filter(func , iterable)\n",
    "\n",
    "# map()\n",
    "# map fucntion >> excutes specified fucntion for each of item of an iterable\n",
    "\n",
    "# map() is for transforming or mapping each item of an iterable to a new item.\n",
    "# reduce() is for reducing all items of an iterable to a single value using a cumulative function.\n",
    "# filter() is for selecting items from an iterable based on a function that evaluates to True or False."
   ]
  },
  {
   "cell_type": "code",
   "execution_count": 56,
   "id": "ec463d97-ca19-4b5e-b4ff-159b01cb740b",
   "metadata": {},
   "outputs": [
    {
     "data": {
      "text/plain": [
       "(2400, 800, 900)"
      ]
     },
     "execution_count": 56,
     "metadata": {},
     "output_type": "execute_result"
    }
   ],
   "source": [
    "l1 = [ 100 , 200 , 300]\n",
    "l2 = [ 24,4,3,5,4,55]\n",
    "tuple(map(lambda x , y : x*y , l1,l2)) #map()"
   ]
  },
  {
   "cell_type": "code",
   "execution_count": 61,
   "id": "10f8f967-edc2-41c6-91b5-93812134744d",
   "metadata": {},
   "outputs": [
    {
     "data": {
      "text/plain": [
       "32535"
      ]
     },
     "execution_count": 61,
     "metadata": {},
     "output_type": "execute_result"
    }
   ],
   "source": [
    "from functools import reduce\n",
    "l = [ 124,4434,54,32535]\n",
    "reduce(lambda x,y : x if x>y else y,l) # reduce"
   ]
  },
  {
   "cell_type": "code",
   "execution_count": 65,
   "id": "6c5bcd19-97c2-4092-b689-24a77973b1b7",
   "metadata": {},
   "outputs": [
    {
     "data": {
      "text/plain": [
       "[124, 4434, 54]"
      ]
     },
     "execution_count": 65,
     "metadata": {},
     "output_type": "execute_result"
    }
   ],
   "source": [
    "# filter\n",
    "list(filter(lambda x : x%2==0 , l))"
   ]
  },
  {
   "cell_type": "markdown",
   "id": "adddb7b8-d657-4d33-aaf0-9447b413e868",
   "metadata": {},
   "source": [
    "# Question 11\n",
    "##  Using pen & Paper write the internal mechanism for sum operation using  reduce function on this given\n",
    "### list:[47,11,42,13]; "
   ]
  },
  {
   "cell_type": "code",
   "execution_count": 31,
   "id": "214d3022-0359-4bde-a13d-9bf39bb9ada0",
   "metadata": {},
   "outputs": [
    {
     "name": "stdout",
     "output_type": "stream",
     "text": [
      "113\n"
     ]
    }
   ],
   "source": [
    "from functools import reduce\n",
    "\n",
    "l = [ 47,11,42,13]\n",
    "result = reduce(lambda x,y : x+y , l)\n",
    "print(result)\n",
    "\n",
    "# IMAGE  IN DRIVE\n",
    "\n",
    "\n"
   ]
  },
  {
   "cell_type": "markdown",
   "id": "91dd7acf-9cc4-45aa-8f6a-982e3672899b",
   "metadata": {},
   "source": [
    "# Practical Questions:"
   ]
  },
  {
   "cell_type": "code",
   "execution_count": null,
   "id": "31cf6cda-5f03-4f97-a901-fe9e824b9440",
   "metadata": {},
   "outputs": [],
   "source": []
  },
  {
   "cell_type": "markdown",
   "id": "aec28876-5ce5-49c8-aa64-6a3be3680b00",
   "metadata": {},
   "source": [
    "# Question 1\n",
    "## Write a Python function that takes a list of numbers as input and returns the sum of all even numbers in the list."
   ]
  },
  {
   "cell_type": "code",
   "execution_count": 85,
   "id": "c6b14909-41fa-4c88-83df-4407bc506398",
   "metadata": {},
   "outputs": [
    {
     "data": {
      "text/plain": [
       "92"
      ]
     },
     "execution_count": 85,
     "metadata": {},
     "output_type": "execute_result"
    }
   ],
   "source": [
    "l = [3,43,5,4,6,3,66,6,2,1,8]\n",
    "def func(n):\n",
    "    x = 0\n",
    "    for i in n:\n",
    "        if i%2==0:\n",
    "            x+=i\n",
    "    return x\n",
    "\n",
    "func(l)"
   ]
  },
  {
   "cell_type": "markdown",
   "id": "c331e1ae-60a4-49da-ac38-bfcaa9e0c815",
   "metadata": {},
   "source": [
    " # Question 2\n",
    "## . Create a Python function that accepts a string and returns the reverse of that string"
   ]
  },
  {
   "cell_type": "code",
   "execution_count": 1,
   "id": "aae1f896-266c-4b5a-8d70-ec61019dcb74",
   "metadata": {},
   "outputs": [],
   "source": [
    "def string(new):\n",
    "    return new[::-1]"
   ]
  },
  {
   "cell_type": "code",
   "execution_count": 4,
   "id": "a5a9295e-74a5-4b02-aaff-44c5c8453b0d",
   "metadata": {},
   "outputs": [
    {
     "name": "stdout",
     "output_type": "stream",
     "text": [
      "hsetima\n"
     ]
    }
   ],
   "source": [
    "reverse = string(\"amitesh\")\n",
    "print(reverse)"
   ]
  },
  {
   "cell_type": "markdown",
   "id": "4de5371b-be20-4ed9-8d4d-6ba89dd672d9",
   "metadata": {},
   "source": [
    "# Question 3\n",
    "## . Implement a Python function that takes a list of integers and returns a new list containing the squares of each number."
   ]
  },
  {
   "cell_type": "code",
   "execution_count": 1,
   "id": "9c7a4cfd-904e-409e-a62f-9e613e12a3df",
   "metadata": {},
   "outputs": [
    {
     "name": "stdin",
     "output_type": "stream",
     "text": [
      "enter the list 1,2,3,4\n"
     ]
    },
    {
     "name": "stdout",
     "output_type": "stream",
     "text": [
      "[1, 4, 9, 16]\n"
     ]
    }
   ],
   "source": [
    "l = list(map(int,input(\"enter the list\").split(',')))\n",
    "def sqr(n):\n",
    "    return n**2\n",
    "result = list(map(sqr,l))\n",
    "print(result)"
   ]
  },
  {
   "cell_type": "markdown",
   "id": "286c18e5-f472-46d3-a14d-4c90b3d6119a",
   "metadata": {},
   "source": [
    "# Question 4\n",
    "##  Write a Python function that checks if a given number is prime or not from 1 to 200"
   ]
  },
  {
   "cell_type": "code",
   "execution_count": 21,
   "id": "4ec05736-62a2-40be-8746-bc4aa7785ffd",
   "metadata": {},
   "outputs": [
    {
     "name": "stdout",
     "output_type": "stream",
     "text": [
      "Your number is not prime\n",
      "Your number is prime\n"
     ]
    }
   ],
   "source": [
    "def prime(n):\n",
    "    for i in range(1, 201):\n",
    "        if n == 0 or n == 1:\n",
    "            print(\"Enter a valid number greater than 1\")\n",
    "            return\n",
    "        elif n % i == 0 and i != 1 and i != n:\n",
    "            print(\"Your number is not prime\")\n",
    "            return\n",
    "    print(\"Your number is prime\")\n",
    "prime(10)  \n",
    "prime(11) \n"
   ]
  },
  {
   "cell_type": "markdown",
   "id": "1147d190-4dac-4994-a47b-4d057f636672",
   "metadata": {},
   "source": [
    "# Question 5\n",
    "## 5. Create an iterator class in Python that generates the Fibonacci sequence up to a specified number of terms."
   ]
  },
  {
   "cell_type": "code",
   "execution_count": 22,
   "id": "427aba4b-d013-480b-835f-e29c06c80da1",
   "metadata": {},
   "outputs": [
    {
     "name": "stdout",
     "output_type": "stream",
     "text": [
      "0\n",
      "1\n",
      "1\n",
      "2\n",
      "3\n",
      "5\n",
      "8\n",
      "13\n",
      "21\n",
      "34\n"
     ]
    }
   ],
   "source": [
    "def fibonacci(n):\n",
    "   \n",
    "    a, b = 0, 1\n",
    "    count = 0\n",
    "\n",
    "    while count < n:\n",
    "        yield a  \n",
    "        a, b = b, a + b  \n",
    "        count += 1\n",
    "\n",
    "for num in fibonacci(10):\n",
    "    print(num)\n"
   ]
  },
  {
   "cell_type": "markdown",
   "id": "02f332fe-01a9-4658-ab32-07786f3abb08",
   "metadata": {},
   "source": [
    "# Question 6\n",
    "## Write a generator function in Python that yields the powers of 2 up to a given exponent"
   ]
  },
  {
   "cell_type": "code",
   "execution_count": 20,
   "id": "ce66f954-bc46-4014-a6a2-41289c07ec09",
   "metadata": {},
   "outputs": [
    {
     "name": "stdout",
     "output_type": "stream",
     "text": [
      "1\n",
      "2\n",
      "4\n",
      "8\n",
      "16\n",
      "32\n",
      "64\n",
      "128\n"
     ]
    }
   ],
   "source": [
    "def powers(exponent):\n",
    "    \n",
    "    for exponent in range(exponent + 1):\n",
    "        yield 2 ** exponent\n",
    "\n",
    "\n",
    "max_exp = 7\n",
    "for power in powers(max_exp):\n",
    "    print(power)\n"
   ]
  },
  {
   "cell_type": "markdown",
   "id": "eca8e213-1192-466e-b803-96150007df03",
   "metadata": {},
   "source": [
    "#Question 7\n",
    " ## . Implement a generator function that reads a file line by line and yields each line as a string"
   ]
  },
  {
   "cell_type": "code",
   "execution_count": null,
   "id": "a2af6d0f-86b6-4481-860e-7847dd607195",
   "metadata": {},
   "outputs": [],
   "source": []
  },
  {
   "cell_type": "markdown",
   "id": "208382f1-acbf-4e9d-8a46-649e6a7a5150",
   "metadata": {},
   "source": [
    " # Question 8\n",
    " ##  Use a lambda function in Python to sort a list of tuples based on the second element of each tuple"
   ]
  },
  {
   "cell_type": "code",
   "execution_count": 13,
   "id": "375392a5-0593-4d85-9d80-b839c8dc60e1",
   "metadata": {},
   "outputs": [
    {
     "name": "stdout",
     "output_type": "stream",
     "text": [
      "[(1, 2), (4, 3), (9, 5), (10, 7)]\n"
     ]
    }
   ],
   "source": [
    "t= [ (1,2), (4,3), (9,5), (10,7)]\n",
    "\n",
    "sorted_val = sorted(t , key = lambda x : x[1], reverse = False )\n",
    "print(sorted_val)"
   ]
  },
  {
   "cell_type": "markdown",
   "id": "53882925-7127-41ea-892e-b1b3900fb97f",
   "metadata": {},
   "source": [
    "# Question 9\n",
    "##  Write a Python program that uses `map()` to convert a list of temperatures from Celsius to Fahrenheit."
   ]
  },
  {
   "cell_type": "code",
   "execution_count": 17,
   "id": "affff695-caa2-4461-8509-edde9b44c588",
   "metadata": {},
   "outputs": [
    {
     "name": "stdout",
     "output_type": "stream",
     "text": [
      "[53.0, 71.0, 89.0, 107.0]\n"
     ]
    }
   ],
   "source": [
    "celsius = [ 10 , 20 , 30 , 40]\n",
    "def convert(celsius):\n",
    "    return (celsius  * 9/5) + 35\n",
    "r = list(map(convert,celsius))\n",
    "print(r)"
   ]
  },
  {
   "cell_type": "markdown",
   "id": "17929cfb-d756-4015-ba9d-b1fc9fe7fd19",
   "metadata": {},
   "source": [
    "# Question 10\n",
    " ## Create a Python program that uses `filter()` to remove all the vowels from a given string."
   ]
  },
  {
   "cell_type": "code",
   "execution_count": 21,
   "id": "910f1f07-4e42-46ab-ae14-75d9ae4439c4",
   "metadata": {},
   "outputs": [
    {
     "name": "stdout",
     "output_type": "stream",
     "text": [
      "mtsh\n"
     ]
    }
   ],
   "source": [
    "def remove_vowels(input_string):\n",
    "    \n",
    "    vowels = \"aeiouAEIOU\"\n",
    "    \n",
    "    no_vowels = filter(lambda char: char not in vowels, input_string)\n",
    "   \n",
    "    return ''.join(no_vowels)\n",
    "\n",
    "input_string = \"Amitesh\"\n",
    "result = remove_vowels(input_string)\n",
    "print(result)\n"
   ]
  },
  {
   "cell_type": "markdown",
   "id": "1f9bbfa0-5d2b-4b21-adb5-cdb5a0950d18",
   "metadata": {},
   "source": [
    "# Question 11\n",
    "## Write a Python program, which returns a list with 2-tuples. Each tuple consists of the order number and the product of the price per item and the quantity. The product should be increased by 10,- € if the value of the order is smaller than 100,00 €."
   ]
  },
  {
   "cell_type": "code",
   "execution_count": null,
   "id": "51abeb26-355b-4515-85e3-a0909469a00b",
   "metadata": {},
   "outputs": [],
   "source": [
    "orders = [\n",
    "    [34587, 'Learning Python, Mark Lutz', 4, 40.95],\n",
    "    [98762, 'Programming Python, Mark Lutz', 5, 56.80],\n",
    "    [77226, 'Head First Python, Paul Barry', 3, 32.95],\n",
    "    [88112, 'Einführung in Python3, Bernd Klein', 3, 24.99]\n",
    "]\n"
   ]
  }
 ],
 "metadata": {
  "kernelspec": {
   "display_name": "Python 3 (ipykernel)",
   "language": "python",
   "name": "python3"
  },
  "language_info": {
   "codemirror_mode": {
    "name": "ipython",
    "version": 3
   },
   "file_extension": ".py",
   "mimetype": "text/x-python",
   "name": "python",
   "nbconvert_exporter": "python",
   "pygments_lexer": "ipython3",
   "version": "3.11.3"
  }
 },
 "nbformat": 4,
 "nbformat_minor": 5
}

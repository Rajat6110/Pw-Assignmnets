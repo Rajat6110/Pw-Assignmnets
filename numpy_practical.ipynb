{
 "cells": [
  {
   "cell_type": "code",
   "execution_count": 1,
   "id": "f99f9a67-5ea5-4547-98b0-2261129ab599",
   "metadata": {},
   "outputs": [],
   "source": [
    "import numpy as np"
   ]
  },
  {
   "cell_type": "markdown",
   "id": "83ceff1e-c0aa-49a3-9476-da3540958a04",
   "metadata": {},
   "source": [
    "## Question 1-. Create a 3x3 NumPy array with random integers between 1 and 100. Then, interchange its rows and columns."
   ]
  },
  {
   "cell_type": "code",
   "execution_count": 5,
   "id": "617e875a-09a5-482c-b13b-f8b3bc7101ef",
   "metadata": {},
   "outputs": [],
   "source": [
    "arr = np.random.randint(1 ,101 ,(3,3))"
   ]
  },
  {
   "cell_type": "code",
   "execution_count": 6,
   "id": "f3ad424a-bd58-4857-8d1d-05dbd5afd41d",
   "metadata": {},
   "outputs": [
    {
     "data": {
      "text/plain": [
       "array([[20, 56, 64],\n",
       "       [23, 44, 22],\n",
       "       [95, 95, 96]])"
      ]
     },
     "execution_count": 6,
     "metadata": {},
     "output_type": "execute_result"
    }
   ],
   "source": [
    "arr"
   ]
  },
  {
   "cell_type": "code",
   "execution_count": 8,
   "id": "d8a7f2d3-3409-423f-af9e-0055c501c259",
   "metadata": {},
   "outputs": [],
   "source": [
    "Tran_array = arr.T"
   ]
  },
  {
   "cell_type": "code",
   "execution_count": 9,
   "id": "4b44a5d5-1cb2-4e2c-9dd8-e6d8d19f81c8",
   "metadata": {},
   "outputs": [
    {
     "name": "stdout",
     "output_type": "stream",
     "text": [
      "[[20 23 95]\n",
      " [56 44 95]\n",
      " [64 22 96]]\n"
     ]
    }
   ],
   "source": [
    "print(Tran_array)"
   ]
  },
  {
   "cell_type": "markdown",
   "id": "d451b672-aceb-4827-87c6-3f012a2f2a8a",
   "metadata": {},
   "source": [
    "## Question 2 - Generate a 1D NumPy array with 10 elements. Reshape it into a 2x5 array, then into a 5x2 array."
   ]
  },
  {
   "cell_type": "code",
   "execution_count": 25,
   "id": "bb75551d-72e5-47ac-831b-96d0244578d5",
   "metadata": {},
   "outputs": [],
   "source": [
    "arr1 = np.random.rand((10))"
   ]
  },
  {
   "cell_type": "code",
   "execution_count": 26,
   "id": "5abf390e-5bf7-4cc5-8398-bd6902b264e6",
   "metadata": {},
   "outputs": [
    {
     "data": {
      "text/plain": [
       "array([0.74624334, 0.29798712, 0.52231926, 0.68001411, 0.3135903 ,\n",
       "       0.91154504, 0.61787659, 0.64551301, 0.67150235, 0.69083622])"
      ]
     },
     "execution_count": 26,
     "metadata": {},
     "output_type": "execute_result"
    }
   ],
   "source": [
    "arr1"
   ]
  },
  {
   "cell_type": "code",
   "execution_count": 27,
   "id": "fa2add9f-2919-478d-aa51-190d90df19a6",
   "metadata": {},
   "outputs": [
    {
     "data": {
      "text/plain": [
       "array([[0.74624334, 0.29798712, 0.52231926, 0.68001411, 0.3135903 ],\n",
       "       [0.91154504, 0.61787659, 0.64551301, 0.67150235, 0.69083622]])"
      ]
     },
     "execution_count": 27,
     "metadata": {},
     "output_type": "execute_result"
    }
   ],
   "source": [
    "arr1.reshape(2,5)"
   ]
  },
  {
   "cell_type": "code",
   "execution_count": 28,
   "id": "f8573498-071f-4ecf-9780-dd2acf65cc6e",
   "metadata": {},
   "outputs": [
    {
     "data": {
      "text/plain": [
       "array([[0.74624334, 0.29798712],\n",
       "       [0.52231926, 0.68001411],\n",
       "       [0.3135903 , 0.91154504],\n",
       "       [0.61787659, 0.64551301],\n",
       "       [0.67150235, 0.69083622]])"
      ]
     },
     "execution_count": 28,
     "metadata": {},
     "output_type": "execute_result"
    }
   ],
   "source": [
    "arr1.reshape(5,2)"
   ]
  },
  {
   "cell_type": "markdown",
   "id": "40a3dc2b-b03d-4690-9eb2-79d76e816376",
   "metadata": {},
   "source": [
    "## Question 3 -  Create a 4x4 NumPy array with random float values. Add a border of zeros around it, resulting in a 6x6 array."
   ]
  },
  {
   "cell_type": "code",
   "execution_count": 32,
   "id": "590cc6bb-ac0c-4a6f-8fc7-f01f9a8825d0",
   "metadata": {},
   "outputs": [],
   "source": [
    "arr = np.random.rand(4,4)"
   ]
  },
  {
   "cell_type": "code",
   "execution_count": 33,
   "id": "c14379c2-4508-4859-be1e-53bb06e09c96",
   "metadata": {},
   "outputs": [
    {
     "data": {
      "text/plain": [
       "array([[0.95434147, 0.59337507, 0.23306025, 0.65131167],\n",
       "       [0.37196351, 0.91515138, 0.20723125, 0.901175  ],\n",
       "       [0.54363227, 0.09123185, 0.31839929, 0.02887131],\n",
       "       [0.23713347, 0.46884209, 0.71214208, 0.11443862]])"
      ]
     },
     "execution_count": 33,
     "metadata": {},
     "output_type": "execute_result"
    }
   ],
   "source": [
    "arr"
   ]
  },
  {
   "cell_type": "code",
   "execution_count": 44,
   "id": "fb0ad105-5019-4e57-aea1-f02feb1d0bf4",
   "metadata": {},
   "outputs": [],
   "source": [
    "arr1= np.zeros((6,6))"
   ]
  },
  {
   "cell_type": "code",
   "execution_count": 45,
   "id": "ebcc7822-6f07-4e34-a3bc-9a3d250430bd",
   "metadata": {},
   "outputs": [
    {
     "data": {
      "text/plain": [
       "array([[0., 0., 0., 0., 0., 0.],\n",
       "       [0., 0., 0., 0., 0., 0.],\n",
       "       [0., 0., 0., 0., 0., 0.],\n",
       "       [0., 0., 0., 0., 0., 0.],\n",
       "       [0., 0., 0., 0., 0., 0.],\n",
       "       [0., 0., 0., 0., 0., 0.]])"
      ]
     },
     "execution_count": 45,
     "metadata": {},
     "output_type": "execute_result"
    }
   ],
   "source": [
    "arr1"
   ]
  },
  {
   "cell_type": "code",
   "execution_count": 51,
   "id": "00f85620-8c6f-4609-a4e3-9f48cff0389b",
   "metadata": {},
   "outputs": [
    {
     "data": {
      "text/plain": [
       "array([[0.        , 0.        , 0.        , 0.        , 0.        ,\n",
       "        0.        ],\n",
       "       [0.        , 0.95434147, 0.59337507, 0.23306025, 0.65131167,\n",
       "        0.        ],\n",
       "       [0.        , 0.37196351, 0.91515138, 0.20723125, 0.901175  ,\n",
       "        0.        ],\n",
       "       [0.        , 0.54363227, 0.09123185, 0.31839929, 0.02887131,\n",
       "        0.        ],\n",
       "       [0.        , 0.23713347, 0.46884209, 0.71214208, 0.11443862,\n",
       "        0.        ],\n",
       "       [0.        , 0.        , 0.        , 0.        , 0.        ,\n",
       "        0.        ]])"
      ]
     },
     "execution_count": 51,
     "metadata": {},
     "output_type": "execute_result"
    }
   ],
   "source": [
    "arr1[1:-1 , 1:-1] = arr\n",
    "arr1"
   ]
  },
  {
   "cell_type": "code",
   "execution_count": 9,
   "id": "dfec8da8-02c3-4008-a3fb-d0a754ce374c",
   "metadata": {},
   "outputs": [
    {
     "name": "stdout",
     "output_type": "stream",
     "text": [
      "Original 4x4 Array:\n",
      "[[0.75822409 0.01306431 0.7897941  0.51066497]\n",
      " [0.61817413 0.00476231 0.82707922 0.13336826]\n",
      " [0.51050626 0.49466572 0.40075171 0.92379124]\n",
      " [0.82760872 0.61467442 0.63220735 0.92525888]]\n",
      "\n",
      "6x6 Array with Border of Zeros:\n",
      "[[0.         0.         0.         0.         0.         0.        ]\n",
      " [0.         0.75822409 0.01306431 0.7897941  0.51066497 0.        ]\n",
      " [0.         0.61817413 0.00476231 0.82707922 0.13336826 0.        ]\n",
      " [0.         0.51050626 0.49466572 0.40075171 0.92379124 0.        ]\n",
      " [0.         0.82760872 0.61467442 0.63220735 0.92525888 0.        ]\n",
      " [0.         0.         0.         0.         0.         0.        ]]\n"
     ]
    }
   ],
   "source": [
    "\n",
    "array = np.random.rand(4, 4)\n",
    "print(\"Original 4x4 Array:\")\n",
    "print(array)\n",
    "\n",
    "# Add a border of zeros around the 4x4 array to create a 6x6 array\n",
    "array_with_border = np.pad(array, pad_width=1, mode='constant', constant_values=0)\n",
    "print(\"\\n6x6 Array with Border of Zeros:\")\n",
    "print(array_with_border)\n"
   ]
  },
  {
   "cell_type": "code",
   "execution_count": null,
   "id": "d09a045f-fe6a-43d7-bd48-151c36a747e2",
   "metadata": {},
   "outputs": [],
   "source": []
  },
  {
   "cell_type": "markdown",
   "id": "45f52522-68f5-4f43-b27b-43c6193de684",
   "metadata": {},
   "source": [
    "## Question -  4 Using NumPy, create an array of integers from 10 to 60 with a step of 5"
   ]
  },
  {
   "cell_type": "code",
   "execution_count": 7,
   "id": "d25323bb-89bc-4622-812f-5c36b152e777",
   "metadata": {},
   "outputs": [],
   "source": [
    "arr1 = np.arange(10,60 , 5)# arange is used to gen array with steps ( start , end , step)"
   ]
  },
  {
   "cell_type": "code",
   "execution_count": 8,
   "id": "76b48c86-8f88-4f7e-a0b6-33568b188fd6",
   "metadata": {},
   "outputs": [
    {
     "data": {
      "text/plain": [
       "array([10, 15, 20, 25, 30, 35, 40, 45, 50, 55])"
      ]
     },
     "execution_count": 8,
     "metadata": {},
     "output_type": "execute_result"
    }
   ],
   "source": [
    "arr1"
   ]
  },
  {
   "cell_type": "markdown",
   "id": "2cd43ea1-23c7-482a-b393-97a93b109c11",
   "metadata": {},
   "source": [
    "## Question 5 - 5. Create a NumPy array of strings ['python', 'numpy', 'pandas']. Apply different case transformations \n",
    "(uppercase, lowercase, title  case, etc.) to each element."
   ]
  },
  {
   "cell_type": "code",
   "execution_count": 11,
   "id": "0534941a-5cea-443f-9071-7e0bbcc9aac8",
   "metadata": {},
   "outputs": [],
   "source": [
    "arr = np.array(['pyhton' , 'numpy' , 'pandas'])"
   ]
  },
  {
   "cell_type": "code",
   "execution_count": 12,
   "id": "214682cb-c4e5-4ae6-9562-9443a6339e01",
   "metadata": {},
   "outputs": [
    {
     "data": {
      "text/plain": [
       "array(['pyhton', 'numpy', 'pandas'], dtype='<U6')"
      ]
     },
     "execution_count": 12,
     "metadata": {},
     "output_type": "execute_result"
    }
   ],
   "source": [
    "arr"
   ]
  },
  {
   "cell_type": "code",
   "execution_count": 16,
   "id": "973844be-bd2c-4e6a-8d09-a5b8a4e09c11",
   "metadata": {},
   "outputs": [
    {
     "data": {
      "text/plain": [
       "array(['Pyhton', 'Numpy', 'Pandas'], dtype='<U6')"
      ]
     },
     "execution_count": 16,
     "metadata": {},
     "output_type": "execute_result"
    }
   ],
   "source": [
    "np.char.title(arr)"
   ]
  },
  {
   "cell_type": "code",
   "execution_count": 17,
   "id": "ea71598f-42b1-4f87-80ae-37a2ba7bd724",
   "metadata": {},
   "outputs": [
    {
     "data": {
      "text/plain": [
       "array(['PYHTON', 'NUMPY', 'PANDAS'], dtype='<U6')"
      ]
     },
     "execution_count": 17,
     "metadata": {},
     "output_type": "execute_result"
    }
   ],
   "source": [
    "np.char.upper(arr)"
   ]
  },
  {
   "cell_type": "code",
   "execution_count": 18,
   "id": "af7cb127-be66-4a52-a6d6-de6b9caf9e4c",
   "metadata": {},
   "outputs": [
    {
     "data": {
      "text/plain": [
       "array(['pyhton', 'numpy', 'pandas'], dtype='<U6')"
      ]
     },
     "execution_count": 18,
     "metadata": {},
     "output_type": "execute_result"
    }
   ],
   "source": [
    "np.char.lower(arr)"
   ]
  },
  {
   "cell_type": "code",
   "execution_count": 19,
   "id": "537f4941-20be-49c1-a0e3-acf5835bf360",
   "metadata": {},
   "outputs": [
    {
     "data": {
      "text/plain": [
       "array([ True,  True,  True])"
      ]
     },
     "execution_count": 19,
     "metadata": {},
     "output_type": "execute_result"
    }
   ],
   "source": [
    "np.char.isalpha(arr)"
   ]
  },
  {
   "cell_type": "markdown",
   "id": "5ba92163-ff48-4eb4-baae-701794d752fb",
   "metadata": {},
   "source": [
    "## question 6. Generate a NumPy array of words. Insert a space between each character of every word in the array."
   ]
  },
  {
   "cell_type": "code",
   "execution_count": 24,
   "id": "e8cd55c2-8a1a-4040-9cac-1f5879ebd917",
   "metadata": {},
   "outputs": [],
   "source": [
    "arr = np.array(['amitesh' , 'pwskills' , 'datascience'])"
   ]
  },
  {
   "cell_type": "code",
   "execution_count": 25,
   "id": "c130bcc5-322a-442e-99f9-d6056cd08517",
   "metadata": {},
   "outputs": [
    {
     "data": {
      "text/plain": [
       "array(['amitesh', 'pwskills', 'datascience'], dtype='<U11')"
      ]
     },
     "execution_count": 25,
     "metadata": {},
     "output_type": "execute_result"
    }
   ],
   "source": [
    "arr"
   ]
  },
  {
   "cell_type": "code",
   "execution_count": 31,
   "id": "d87bb451-32cb-42e9-8fe2-c58aed956c5f",
   "metadata": {},
   "outputs": [
    {
     "data": {
      "text/plain": [
       "array(['a m i t e s h', 'p w s k i l l s', 'd a t a s c i e n c e'],\n",
       "      dtype='<U21')"
      ]
     },
     "execution_count": 31,
     "metadata": {},
     "output_type": "execute_result"
    }
   ],
   "source": [
    "np.array([' '.join(i)  for i in arr])"
   ]
  },
  {
   "cell_type": "markdown",
   "id": "a5a87c23-ba69-4823-90f5-34ba02f6e064",
   "metadata": {},
   "source": [
    "## Question - 7 Create two 2D NumPy arrays and perform element-wise addition, subtraction, multiplication, and division."
   ]
  },
  {
   "cell_type": "code",
   "execution_count": 32,
   "id": "e6df3a72-ba6b-4cb1-9aeb-9721960b8f4a",
   "metadata": {},
   "outputs": [],
   "source": [
    "arr1 = np.array([[1,2,3] , [4,5,6]])"
   ]
  },
  {
   "cell_type": "code",
   "execution_count": 33,
   "id": "c2c11ea4-8909-48a4-8c8b-f65f42a22c60",
   "metadata": {},
   "outputs": [],
   "source": [
    "arr2 = np.array([[6,7,8] , [9,7,4]])"
   ]
  },
  {
   "cell_type": "code",
   "execution_count": 34,
   "id": "5d01ab15-3295-4cec-8c27-e24cfe720081",
   "metadata": {},
   "outputs": [
    {
     "data": {
      "text/plain": [
       "array([[0.16666667, 0.28571429, 0.375     ],\n",
       "       [0.44444444, 0.71428571, 1.5       ]])"
      ]
     },
     "execution_count": 34,
     "metadata": {},
     "output_type": "execute_result"
    }
   ],
   "source": [
    "arr1/arr2"
   ]
  },
  {
   "cell_type": "code",
   "execution_count": 35,
   "id": "677ea195-f803-4381-a283-bf2cf1075459",
   "metadata": {},
   "outputs": [
    {
     "data": {
      "text/plain": [
       "array([[ 7,  9, 11],\n",
       "       [13, 12, 10]])"
      ]
     },
     "execution_count": 35,
     "metadata": {},
     "output_type": "execute_result"
    }
   ],
   "source": [
    "arr1+arr2"
   ]
  },
  {
   "cell_type": "code",
   "execution_count": 36,
   "id": "0a80c844-8b1c-49fa-abed-798b5eb79744",
   "metadata": {},
   "outputs": [
    {
     "data": {
      "text/plain": [
       "array([[ 6, 14, 24],\n",
       "       [36, 35, 24]])"
      ]
     },
     "execution_count": 36,
     "metadata": {},
     "output_type": "execute_result"
    }
   ],
   "source": [
    "arr1*arr2"
   ]
  },
  {
   "cell_type": "code",
   "execution_count": 37,
   "id": "14d691da-c458-4bef-aa55-a51e0e524875",
   "metadata": {},
   "outputs": [
    {
     "data": {
      "text/plain": [
       "array([[-5, -5, -5],\n",
       "       [-5, -2,  2]])"
      ]
     },
     "execution_count": 37,
     "metadata": {},
     "output_type": "execute_result"
    }
   ],
   "source": [
    "arr1-arr2"
   ]
  },
  {
   "cell_type": "markdown",
   "id": "bcfb17b6-07bb-4bf7-a1a3-4ae452af668b",
   "metadata": {},
   "source": [
    "## Question 8 - Use NumPy to create a 5x5 identity matrix, then extract its diagonal elements."
   ]
  },
  {
   "cell_type": "code",
   "execution_count": 42,
   "id": "9f943ce6-3243-40ad-a212-1f1a352d0559",
   "metadata": {},
   "outputs": [],
   "source": [
    "arr = np.random.randint(1,100 ,size =( 5,5))"
   ]
  },
  {
   "cell_type": "code",
   "execution_count": 43,
   "id": "6290523c-e6e7-430f-8171-dd3b3633aedc",
   "metadata": {},
   "outputs": [
    {
     "data": {
      "text/plain": [
       "array([[31, 62, 67,  9,  5],\n",
       "       [48, 43, 27, 62, 30],\n",
       "       [17, 90, 99, 96, 82],\n",
       "       [78, 41, 32, 29, 40],\n",
       "       [ 1, 17, 77, 98, 68]])"
      ]
     },
     "execution_count": 43,
     "metadata": {},
     "output_type": "execute_result"
    }
   ],
   "source": [
    "arr"
   ]
  },
  {
   "cell_type": "code",
   "execution_count": 46,
   "id": "c4d69659-5e11-4de8-9dee-810df777ddf0",
   "metadata": {},
   "outputs": [
    {
     "data": {
      "text/plain": [
       "array([31, 43, 99, 29, 68])"
      ]
     },
     "execution_count": 46,
     "metadata": {},
     "output_type": "execute_result"
    }
   ],
   "source": [
    "np.diag(arr)"
   ]
  },
  {
   "cell_type": "markdown",
   "id": "58e996d1-248e-4ff6-b711-1879176b757f",
   "metadata": {},
   "source": [
    "## Question - 9 Generate a NumPy array of 100 random integers between 0 and 1000. Find and display all prime numbers in\r\n",
    "this array"
   ]
  },
  {
   "cell_type": "code",
   "execution_count": 31,
   "id": "5033c115-02f8-4579-a5bc-b29628c93a41",
   "metadata": {},
   "outputs": [],
   "source": [
    "arr1 = np.random.randint(0,1000 , size = 100)"
   ]
  },
  {
   "cell_type": "code",
   "execution_count": 32,
   "id": "ead7dee4-26d4-40fa-8335-bd3df7700bac",
   "metadata": {},
   "outputs": [
    {
     "data": {
      "text/plain": [
       "array([111, 493, 664, 841,  93, 291, 432, 705, 710,  90, 870, 274, 564,\n",
       "       476, 688, 156, 881, 953,  71, 560, 827, 877, 238, 191, 238, 688,\n",
       "       964, 171, 686, 927, 645, 982, 891, 235, 544, 414, 911, 516, 672,\n",
       "       664, 944, 542, 191, 440, 358,  88, 362, 745, 608, 275,  94, 457,\n",
       "        65, 984, 477, 587, 715, 253, 765,  50, 224, 822,  53,  60, 682,\n",
       "       838, 590, 356, 606, 120, 247, 133, 440, 894, 588, 900, 950,  19,\n",
       "         1, 585, 955, 466, 917, 266,  73, 991, 761, 963, 804, 438, 355,\n",
       "       381,  23, 225, 287, 170, 620, 992, 695, 240])"
      ]
     },
     "execution_count": 32,
     "metadata": {},
     "output_type": "execute_result"
    }
   ],
   "source": [
    "arr1"
   ]
  },
  {
   "cell_type": "code",
   "execution_count": 33,
   "id": "fa1dcaa8-a961-4920-9cf3-e990a0d49df2",
   "metadata": {},
   "outputs": [],
   "source": [
    "def is_prime(n):\n",
    "    if n <= 1:\n",
    "        return False\n",
    "    for i in range(2, int(n ** 0.5) + 1):\n",
    "        if n % i == 0:\n",
    "            return False\n",
    "    return True"
   ]
  },
  {
   "cell_type": "code",
   "execution_count": 34,
   "id": "4f90f3b9-1a05-418b-a82a-0dd87c77a56c",
   "metadata": {},
   "outputs": [
    {
     "name": "stdout",
     "output_type": "stream",
     "text": [
      "Random arr1:\n",
      " [111 493 664 841  93 291 432 705 710  90 870 274 564 476 688 156 881 953\n",
      "  71 560 827 877 238 191 238 688 964 171 686 927 645 982 891 235 544 414\n",
      " 911 516 672 664 944 542 191 440 358  88 362 745 608 275  94 457  65 984\n",
      " 477 587 715 253 765  50 224 822  53  60 682 838 590 356 606 120 247 133\n",
      " 440 894 588 900 950  19   1 585 955 466 917 266  73 991 761 963 804 438\n",
      " 355 381  23 225 287 170 620 992 695 240]\n",
      "\n",
      "Prime Numbers:\n",
      " [881, 953, 71, 827, 877, 191, 911, 191, 457, 587, 53, 19, 73, 991, 761, 23]\n"
     ]
    }
   ],
   "source": [
    "prime_numbers = [num for num in arr1 if is_prime(num)]\n",
    "\n",
    "# Display the array and the prime numbers\n",
    "print(\"Random arr1:\\n\",arr1)\n",
    "print(\"\\nPrime Numbers:\\n\", prime_numbers)"
   ]
  },
  {
   "cell_type": "markdown",
   "id": "b15e99ae-6932-4f2c-a0f7-f4d2878f6f24",
   "metadata": {},
   "source": [
    "## Question 10 -  Create a NumPy array representing daily temperatures for a month.Calculate and display the weekly \n",
    "averages."
   ]
  },
  {
   "cell_type": "code",
   "execution_count": 45,
   "id": "6eb8bfb7-139b-4ad6-b7a2-8ff38649ac36",
   "metadata": {},
   "outputs": [],
   "source": [
    "arr1 = np.random.randint(20,40, size = 30)"
   ]
  },
  {
   "cell_type": "code",
   "execution_count": 46,
   "id": "0f89331d-f325-4984-b9ba-e7f7c03226d5",
   "metadata": {},
   "outputs": [
    {
     "data": {
      "text/plain": [
       "array([39, 35, 29, 22, 22, 38, 31, 39, 33, 37, 29, 37, 28, 28, 36, 31, 22,\n",
       "       39, 39, 31, 38, 34, 34, 23, 34, 38, 35, 33, 30, 36])"
      ]
     },
     "execution_count": 46,
     "metadata": {},
     "output_type": "execute_result"
    }
   ],
   "source": [
    "arr1"
   ]
  },
  {
   "cell_type": "code",
   "execution_count": 47,
   "id": "16457817-0188-48e7-8f25-b2b379551990",
   "metadata": {},
   "outputs": [
    {
     "name": "stdout",
     "output_type": "stream",
     "text": [
      "Daily Temperatures for 30 Days:\n",
      " [39 35 29 22 22 38 31 39 33 37 29 37 28 28 36 31 22 39 39 31 38 34 34 23\n",
      " 34 38 35 33 30 36]\n",
      "\n",
      "Weekly Averages:\n",
      "Week 1: 30.86°C\n",
      "Week 2: 33.00°C\n",
      "Week 3: 33.71°C\n",
      "Week 4: 33.00°C\n",
      "Week 5: 33.00°C\n"
     ]
    }
   ],
   "source": [
    "# Calculate weekly averages (assuming each week is 7 days)\n",
    "weekly_averages = [np.mean(arr1[i:i+7]) for i in range(0, len(arr1), 7)]\n",
    "\n",
    "# Display the daily temperatures and the weekly averages\n",
    "print(\"Daily Temperatures for 30 Days:\\n\", arr1)\n",
    "print(\"\\nWeekly Averages:\")\n",
    "for week, avg_temp in enumerate(weekly_averages, start=1):\n",
    "    print(f\"Week {week}: {avg_temp:.2f}°C\")"
   ]
  },
  {
   "cell_type": "code",
   "execution_count": null,
   "id": "5a411bea-f6db-4402-8951-f3af5f08094b",
   "metadata": {},
   "outputs": [],
   "source": []
  }
 ],
 "metadata": {
  "kernelspec": {
   "display_name": "Python 3 (ipykernel)",
   "language": "python",
   "name": "python3"
  },
  "language_info": {
   "codemirror_mode": {
    "name": "ipython",
    "version": 3
   },
   "file_extension": ".py",
   "mimetype": "text/x-python",
   "name": "python",
   "nbconvert_exporter": "python",
   "pygments_lexer": "ipython3",
   "version": "3.11.3"
  },
  "widgets": {
   "application/vnd.jupyter.widget-state+json": {
    "state": {},
    "version_major": 2,
    "version_minor": 0
   }
  }
 },
 "nbformat": 4,
 "nbformat_minor": 5
}

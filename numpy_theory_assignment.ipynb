{
 "cells": [
  {
   "cell_type": "markdown",
   "id": "270aacc3-aef9-4687-adb0-b44dbc8dfce6",
   "metadata": {},
   "source": [
    "# Theoretical Questions:"
   ]
  },
  {
   "cell_type": "markdown",
   "id": "404bda04-06c2-4f38-9eb8-3944de20be90",
   "metadata": {},
   "source": [
    "## 1. Explain the purpose and advantages of NumPy in scientific computing and data analysis. How does it \n",
    "enhance Python's capabilities for numerical operations?"
   ]
  },
  {
   "cell_type": "code",
   "execution_count": 1,
   "id": "13906840-a9b0-4071-89f9-132e28c45230",
   "metadata": {},
   "outputs": [],
   "source": [
    "# #NumPy is a fundamental Python library for scientific computing and data analysis,\n",
    "# offering efficient handling of multi-dimensional arrays and matrices.\n",
    "# It enhances Python’s capabilities by providing optimized functions for numerical operations, \n",
    "# such as linear algebra, statistics, and fast element-wise computations, which are much faster than using standard Python lists\n",
    "# Its simplicity, performance, and compatibility with other libraries like SciPy and Pandas make it a cornerstone of data science\n",
    "# and machine learning workflows."
   ]
  },
  {
   "cell_type": "markdown",
   "id": "10c4f6fa-8a1d-4c66-bff7-f71f78e08caa",
   "metadata": {},
   "source": [
    "## 2 .Compare and contrast np.mean() and np.average() functions in NumPy. When would you use one over the \n",
    "other?"
   ]
  },
  {
   "cell_type": "code",
   "execution_count": 2,
   "id": "f35a764f-94b7-4046-9786-dc2835c82930",
   "metadata": {},
   "outputs": [],
   "source": [
    "#Use np.mean() for simplicity when all elements have equal importance.\n",
    "# Use np.average() when you need to compute a weighted average and account for varying significance among data points."
   ]
  },
  {
   "cell_type": "code",
   "execution_count": 3,
   "id": "0ac3d7f4-1115-4434-869f-179dc3648ded",
   "metadata": {},
   "outputs": [
    {
     "name": "stdout",
     "output_type": "stream",
     "text": [
      "2.5\n"
     ]
    }
   ],
   "source": [
    "import numpy as np\n",
    "arr = np.array([1, 2, 3, 4])\n",
    "print(np.mean(arr))  # Output: 2.5\n"
   ]
  },
  {
   "cell_type": "code",
   "execution_count": 4,
   "id": "d47eccc4-732c-4f05-85fa-628f3a1bd507",
   "metadata": {},
   "outputs": [
    {
     "name": "stdout",
     "output_type": "stream",
     "text": [
      "3.0\n"
     ]
    }
   ],
   "source": [
    "weights = np.array([1, 2, 3, 4])\n",
    "print(np.average(arr, weights=weights))  # Output: 3.0\n"
   ]
  },
  {
   "cell_type": "markdown",
   "id": "b6887fdc-4691-4420-b905-4c6d491ca717",
   "metadata": {},
   "source": [
    "## 3. Describe the methods for reversing a NumPy array along different axes. Provide examples for 1D and 2D \n",
    "arrays."
   ]
  },
  {
   "cell_type": "code",
   "execution_count": 5,
   "id": "2c72da20-3021-4714-ac64-e0aa522d6324",
   "metadata": {},
   "outputs": [
    {
     "name": "stdout",
     "output_type": "stream",
     "text": [
      "[5 4 3 2 1]\n"
     ]
    }
   ],
   "source": [
    "# 1. Reversing a 1D Array\n",
    "# The simplest way to reverse a 1D array is through slicing with a step of -1:\n",
    "\n",
    "import numpy as np\n",
    "\n",
    "# Create a 1D array\n",
    "arr_1d = np.array([1, 2, 3, 4, 5])\n",
    "\n",
    "# Reverse the array\n",
    "reversed_1d = arr_1d[::-1]\n",
    "print(reversed_1d)  "
   ]
  },
  {
   "cell_type": "code",
   "execution_count": 6,
   "id": "ba14b093-3e37-441a-bf08-36b54982dc58",
   "metadata": {},
   "outputs": [
    {
     "name": "stdout",
     "output_type": "stream",
     "text": [
      "[[7 8 9]\n",
      " [4 5 6]\n",
      " [1 2 3]]\n"
     ]
    }
   ],
   "source": [
    "# Reversing a 2D Array\n",
    "# For 2D arrays, you can reverse rows, columns, or both using slicing:\n",
    "\n",
    "# a) Reverse Rows (along Axis 0)\n",
    "\n",
    "arr_2d = np.array([[1, 2, 3], [4, 5, 6], [7, 8, 9]])\n",
    "\n",
    "# Reverse the order of rows\n",
    "reversed_rows = arr_2d[::-1, :]\n",
    "print(reversed_rows)"
   ]
  },
  {
   "cell_type": "code",
   "execution_count": 7,
   "id": "59420882-8b75-4abe-8357-6899807eda6e",
   "metadata": {},
   "outputs": [
    {
     "name": "stdout",
     "output_type": "stream",
     "text": [
      "[[9 8 7]\n",
      " [6 5 4]\n",
      " [3 2 1]]\n"
     ]
    }
   ],
   "source": [
    "# Reverse both rows and columns\n",
    "reversed_both = arr_2d[::-1, ::-1]\n",
    "print(reversed_both)"
   ]
  },
  {
   "cell_type": "code",
   "execution_count": 8,
   "id": "f834e804-f059-4739-a87a-3398c52fa7ea",
   "metadata": {},
   "outputs": [
    {
     "name": "stdout",
     "output_type": "stream",
     "text": [
      "[[3 2 1]\n",
      " [6 5 4]\n",
      " [9 8 7]]\n"
     ]
    }
   ],
   "source": [
    "# Reverse the order of columns\n",
    "reversed_columns = arr_2d[:, ::-1]\n",
    "print(reversed_columns)"
   ]
  },
  {
   "cell_type": "markdown",
   "id": "34681844-ef4f-4de1-9935-7d15b0c5eb77",
   "metadata": {},
   "source": [
    "## 4 . How can you determine the data type of elements in a NumPy array? Discuss the importance of data types   \n",
    "in memory management and performance"
   ]
  },
  {
   "cell_type": "code",
   "execution_count": 10,
   "id": "25d91b5b-7862-4b6e-81df-a3a30e4aacf5",
   "metadata": {},
   "outputs": [
    {
     "name": "stdout",
     "output_type": "stream",
     "text": [
      "int32\n"
     ]
    }
   ],
   "source": [
    "\n",
    "arr = np.array([1, 2, 3], dtype=np.int32)\n",
    "print(arr.dtype)"
   ]
  },
  {
   "cell_type": "code",
   "execution_count": 11,
   "id": "da9faba1-20a0-47a1-9647-4e0e3b451753",
   "metadata": {},
   "outputs": [],
   "source": [
    "# Importance of Data Types in Memory Management and Performance\n",
    "# 1Memory Efficiency:\n",
    "# The dtype determines the amount of memory allocated for each element. For instance,\n",
    "# int32 uses 4 bytes, while int64 uses 8 bytes. Choosing a smaller data type saves memory, especially for large arrays.\n",
    "\n",
    "# Performance Optimization:\n",
    "\n",
    "# Computation speed is influenced by the data type. Operations on smaller types like float32 or\n",
    "# int16 are faster than on float64 or int64, as they involve less memory and precision.\n",
    "# Using the correct dtype can significantly enhance performance in numerical operations.\n",
    "\n",
    "                                                                                       \n",
    "# Data Compatibility:\n",
    "\n",
    "# Ensuring the right data type avoids overflow or precision loss. \n",
    "# For example, integers cannot represent fractional values, and using float32 instead of float64 may lead to rounding error\n",
    "# for very large or small numbers."
   ]
  },
  {
   "cell_type": "markdown",
   "id": "377d1983-02a1-4477-8b32-848e78dfa867",
   "metadata": {},
   "source": [
    "##  5 . Define ndarrays in NumPy and explain their key features. How do they differ from standard Python lists?"
   ]
  },
  {
   "cell_type": "code",
   "execution_count": 12,
   "id": "9a1ce80c-7f42-42cb-939f-ed4cda87fa5e",
   "metadata": {},
   "outputs": [],
   "source": [
    "# An **ndarray** in NumPy is a powerful, multi-dimensional array that stores homogeneous data types in a highly optimized format \n",
    "# for numerical computations. Unlike Python lists, which can hold mixed data types and are less efficient,\n",
    "# ndarrays use contiguous memory blocks, enabling faster operations and better memory management. \n",
    "# They support vectorized operations, allowing element-wise computations without explicit loops, \n",
    "# making them significantly faster than lists for large datasets. Additionally, ndarrays are versatile,\n",
    "# supporting multi-dimensional data and offering a wide range of built-in methods for mathematical, statistical, and \n",
    "# logical operations, making them ideal for scientific and data analysis tasks."
   ]
  },
  {
   "cell_type": "markdown",
   "id": "979e0eda-de79-4279-ad79-13f5dbec7024",
   "metadata": {},
   "source": [
    "## 6 .Analyze the performance benefits of NumPy arrays over Python lists for large-scale numerical operations."
   ]
  },
  {
   "cell_type": "code",
   "execution_count": 13,
   "id": "a06ba5ef-2d58-4b5a-a3f1-d24fec1d429a",
   "metadata": {},
   "outputs": [],
   "source": [
    "# NumPy arrays offer significant performance benefits over Python lists for large-scale numerical operations due to their optimized design.\n",
    "# They store data in contiguous memory blocks, reducing overhead and enabling faster access and manipulation. \n",
    "# NumPy leverages vectorized operations implemented in C, allowing computations to occur without Python's\n",
    "# loop overhead, making it much faster for element-wise operations. Additionally, arrays are homogeneous, \n",
    "# ensuring consistent data types and enabling SIMD (Single Instruction, Multiple Data) optimizations,\n",
    "# unlike Python lists, which allow mixed types and are slower for numerical tasks. \n",
    "# These efficiencies make NumPy arrays ideal for handling large datasets in scientific and analytical computations."
   ]
  },
  {
   "cell_type": "markdown",
   "id": "459e8a9e-4914-4da9-8181-97ce14591c0f",
   "metadata": {},
   "source": [
    "## 7 .  Compare vstack() and hstack() functions in NumPy. Provide examples demonstrating their usage and \n",
    "output."
   ]
  },
  {
   "cell_type": "code",
   "execution_count": 15,
   "id": "4ea07743-8e19-4271-b9f4-d6eeb0027ebe",
   "metadata": {},
   "outputs": [
    {
     "name": "stdout",
     "output_type": "stream",
     "text": [
      "[[1 2]\n",
      " [3 4]\n",
      " [5 6]\n",
      " [7 8]]\n"
     ]
    }
   ],
   "source": [
    "# vstack() stacks arrays along the vertical axis (axis 0), meaning it adds rows to the array.\n",
    "# The arrays must have the same number of columns (same shape along axis 1) to be stacked.\n",
    "\n",
    "arr1 = np.array([[1, 2], [3, 4]])\n",
    "arr2 = np.array([[5, 6], [7, 8]])\n",
    "result = np.vstack((arr1, arr2))\n",
    "print(result)"
   ]
  },
  {
   "cell_type": "code",
   "execution_count": 16,
   "id": "a0e1260f-eea6-4916-8e24-a6c2d1d72bcd",
   "metadata": {},
   "outputs": [
    {
     "name": "stdout",
     "output_type": "stream",
     "text": [
      "[[1 2 5 6]\n",
      " [3 4 7 8]]\n"
     ]
    }
   ],
   "source": [
    "# hstack() stacks arrays along the horizontal axis (axis 1), meaning it adds columns to the array.\n",
    "# The arrays must have the same number of rows (same shape along axis 0) to be stacked.\n",
    "\n",
    "\n",
    "arr1 = np.array([[1, 2], [3, 4]])\n",
    "arr2 = np.array([[5, 6], [7, 8]])\n",
    "result = np.hstack((arr1, arr2))\n",
    "print(result)"
   ]
  },
  {
   "cell_type": "markdown",
   "id": "beb0b059-3db8-4f55-ac37-0d4c650856ff",
   "metadata": {},
   "source": [
    "## 8 .Explain the differences between fliplr() and flipud() methods in NumPy, including their effects on variousarray dimensions."
   ]
  },
  {
   "cell_type": "code",
   "execution_count": 17,
   "id": "d94ee49d-9c8d-4742-9b05-aac855f67bd0",
   "metadata": {},
   "outputs": [
    {
     "name": "stdout",
     "output_type": "stream",
     "text": [
      "[[3 2 1]\n",
      " [6 5 4]]\n"
     ]
    }
   ],
   "source": [
    "# fliplr() (flip left-right) flips an array horizontally, meaning it reverses the order of elements along each row (axis 1). \n",
    "# It is typically used on 2D arrays, but it can also be applied to higher-dimensional arrays,\n",
    "# flipping the array along the second axis. For example, in a 2D array, fliplr() mirrors the array from left to right.\n",
    "\n",
    "\n",
    "arr = np.array([[1, 2, 3], [4, 5, 6]])\n",
    "result = np.fliplr(arr)\n",
    "print(result)"
   ]
  },
  {
   "cell_type": "code",
   "execution_count": 18,
   "id": "31979952-b08e-4045-865f-f508a29ea2f8",
   "metadata": {},
   "outputs": [
    {
     "name": "stdout",
     "output_type": "stream",
     "text": [
      "[[4 5 6]\n",
      " [1 2 3]]\n"
     ]
    }
   ],
   "source": [
    "# flipud() (flip up-down) flips an array vertically, meaning it reverses the order of rows (axis 0). \n",
    "# Like fliplr(), it is primarily used with 2D arrays, but can also be applied to higher-dimensional arrays,\n",
    "# flipping along the first axis. In a 2D array, flipud() mirrors the array from top to bottom.\n",
    "\n",
    "\n",
    "arr = np.array([[1, 2, 3], [4, 5, 6]])\n",
    "result = np.flipud(arr)\n",
    "print(result)"
   ]
  },
  {
   "cell_type": "markdown",
   "id": "205f89aa-4250-42a5-9271-ddbfcecf83d7",
   "metadata": {},
   "source": [
    "## 9 . Discuss the functionality of the array_split() method in NumPy. How does it handle uneven splits?"
   ]
  },
  {
   "cell_type": "code",
   "execution_count": 19,
   "id": "0396a12e-613a-4f7b-9384-1f95c79e66ee",
   "metadata": {},
   "outputs": [],
   "source": [
    "# The array_split() method in NumPy is used to split an array into multiple sub-arrays along a specified axis.\n",
    "# It is a flexible function that allows splitting an array into a specified number of equal or nearly equal parts,\n",
    "# even when the array cannot be evenly divided. Unlike split(), which requires the array to be divisible by the number of splits\n",
    "# , array_split() handles uneven splits gracefully by distributing the leftover elements across the resulting sub-arrays. I\n",
    "# f the array cannot be evenly divided, some sub-arrays will contain one extra element compared to others. \n",
    "# This makes array_split() particularly useful when working with datasets where exact divisions are not possible."
   ]
  },
  {
   "cell_type": "code",
   "execution_count": 20,
   "id": "79bfedcc-97fb-4628-8f59-1582b21e353a",
   "metadata": {},
   "outputs": [
    {
     "name": "stdout",
     "output_type": "stream",
     "text": [
      "[array([1, 2, 3]), array([4, 5]), array([6, 7])]\n"
     ]
    }
   ],
   "source": [
    "import numpy as np\n",
    "arr = np.array([1, 2, 3, 4, 5, 6, 7])\n",
    "result = np.array_split(arr, 3)\n",
    "print(result)\n",
    "# Output:\n",
    "# [array([1, 2, 3]), array([4, 5]), array([6, 7])]\n"
   ]
  },
  {
   "cell_type": "markdown",
   "id": "f5a8f7f3-0c24-4b50-ae4d-3c9cd865e8ec",
   "metadata": {},
   "source": [
    "## 10 .  Explain the concepts of vectorization and broadcasting in NumPy. How do they contribute to efficient array operations?"
   ]
  },
  {
   "cell_type": "code",
   "execution_count": 21,
   "id": "5dce0bcf-4d86-4b92-bdff-dd898857ffbb",
   "metadata": {},
   "outputs": [],
   "source": [
    "# Vectorization refers to the ability to perform element-wise operations on entire arrays without the need for explicit loops in Python. \n",
    "# Instead of iterating over each element manually, NumPy applies operations to the whole array in one go\n",
    "# , using highly optimized C-level code. This significantly speeds up computation.\n",
    "# For example, adding two arrays element-wise can be done directly with arr1 + arr2,\n",
    "# which is much faster than iterating through elements in a Python loop."
   ]
  },
  {
   "cell_type": "code",
   "execution_count": 22,
   "id": "2a7798cb-71b3-48b0-a7bc-8af44d21833c",
   "metadata": {},
   "outputs": [],
   "source": [
    "# Broadcasting allows NumPy to perform operations on arrays of different shapes in a way that aligns them without the need to explicitly reshape one of the arrays. When performing operations between arrays, NumPy automatically expands the smaller array to match the shape of the larger one, \n",
    "# ensuring that the operation is applied element-wise.\n",
    "# For instance, adding a scalar to a 2D array will add the scalar to each element of the array,\n",
    "# as NumPy \"broadcasts\" the scalar across the array."
   ]
  },
  {
   "cell_type": "code",
   "execution_count": null,
   "id": "2ff960ec-b36b-4099-a2ca-53bdf27b3d9e",
   "metadata": {},
   "outputs": [],
   "source": []
  }
 ],
 "metadata": {
  "kernelspec": {
   "display_name": "Python 3 (ipykernel)",
   "language": "python",
   "name": "python3"
  },
  "language_info": {
   "codemirror_mode": {
    "name": "ipython",
    "version": 3
   },
   "file_extension": ".py",
   "mimetype": "text/x-python",
   "name": "python",
   "nbconvert_exporter": "python",
   "pygments_lexer": "ipython3",
   "version": "3.11.3"
  },
  "widgets": {
   "application/vnd.jupyter.widget-state+json": {
    "state": {},
    "version_major": 2,
    "version_minor": 0
   }
  }
 },
 "nbformat": 4,
 "nbformat_minor": 5
}

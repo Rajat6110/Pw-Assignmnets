{
 "cells": [
  {
   "cell_type": "markdown",
   "metadata": {},
   "source": [
    "  # ASSIGNMENT FOR OOPS "
   ]
  },
  {
   "cell_type": "markdown",
   "metadata": {
    "jp-MarkdownHeadingCollapsed": true
   },
   "source": [
    "## QUETION 1 - What are the five key concepts of Object-Oriented Programming (OOP)"
   ]
  },
  {
   "cell_type": "markdown",
   "metadata": {},
   "source": [
    "## Question 1 What are the five key concepts of Object-Oriented Programming (OOP)?"
   ]
  },
  {
   "cell_type": "code",
   "execution_count": 2,
   "metadata": {},
   "outputs": [],
   "source": [
    "# <!-- The five key concepts of Object-Oriented Programming (OOP) are:\n",
    "\n",
    "#  1. Encapsulation: Bundling data (attributes) and methods (functions) together within a class, controlling access to them using access modifiers (public, private, protected).\n",
    "\n",
    "# 2 .Abstraction: Hiding unnecessary details from the user, exposing only essential features through interfaces or abstract classes.\n",
    "\n",
    "# 3 . Inheritance: Allowing a new class (child) to inherit attributes and methods from an existing class (parent), promoting code reuse.\n",
    "\n",
    "#  4. Polymorphism: Enabling objects to be treated as instances of their parent class, allowing the same method to behave differently based on the object type.\n",
    "\n",
    "#  5. Classes and Objects: Classes are blueprints for creating objects, which are instances of classes with specific values for attributes. -->"
   ]
  },
  {
   "cell_type": "markdown",
   "metadata": {},
   "source": [
    "## Question 2 Write a Python class for a `Car` with attributes for `make`, `model`, and `year`. Include a method to display the car's information"
   ]
  },
  {
   "cell_type": "code",
   "execution_count": 1,
   "metadata": {},
   "outputs": [],
   "source": [
    "class Car:\n",
    "    def __init__(self,make,model,year):\n",
    "        self.make = make\n",
    "        self.model = model\n",
    "        self.year = year\n",
    "    def display(self):\n",
    "        print(\"year of car is \", self.make)\n",
    "        print(\"model of car is \" , self.year)\n",
    "        print(\"make -\" , self.make)\n",
    "        "
   ]
  },
  {
   "cell_type": "code",
   "execution_count": 2,
   "metadata": {},
   "outputs": [],
   "source": [
    "gadi = Car(\"tata\" , \"tiago xz\" , 2020)"
   ]
  },
  {
   "cell_type": "code",
   "execution_count": 3,
   "metadata": {},
   "outputs": [
    {
     "name": "stdout",
     "output_type": "stream",
     "text": [
      "year of car is  tata\n",
      "model of car is  2020\n",
      "make - tata\n"
     ]
    }
   ],
   "source": [
    "gadi.display()"
   ]
  },
  {
   "cell_type": "markdown",
   "metadata": {},
   "source": [
    "## Question 3 - Explain the difference between instance methods and class methods. Provide an example of each."
   ]
  },
  {
   "cell_type": "code",
   "execution_count": 7,
   "metadata": {},
   "outputs": [
    {
     "name": "stdout",
     "output_type": "stream",
     "text": [
      "your name is amitesh\n"
     ]
    }
   ],
   "source": [
    "# instance method - \n",
    "# An instance method is a function that is part of a class and acts on an instance of that class.\n",
    "# Instance methods are used to access and modify instance attributes and class attributes.\n",
    "class Instance:\n",
    "    def __init__(self,name):\n",
    "        self.name = name\n",
    "    def display(self):\n",
    "        print(f\"your name is {self.name}\")\n",
    "\n",
    "naam = Instance(\"amitesh\")\n",
    "naam.display()"
   ]
  },
  {
   "cell_type": "code",
   "execution_count": 11,
   "metadata": {},
   "outputs": [
    {
     "data": {
      "text/plain": [
       "'amitesh'"
      ]
     },
     "execution_count": 11,
     "metadata": {},
     "output_type": "execute_result"
    }
   ],
   "source": [
    "# class methods - \n",
    "# class method >> bound to the class , ( not particular to instance of class )  \n",
    "#can ,access / modift method and attributes  associated to the class across all instances\n",
    "\n",
    "# syntax = @classmethod \n",
    "# instaed of slef , cls will be there as first parameter\n",
    "class ClsMethod:\n",
    "    def __init__(self,name):\n",
    "        self.name = name\n",
    "    @classmethod\n",
    "    def display(cls , self):\n",
    "        return cls(name)\n",
    "\n",
    "naaam = ClsMethod(\"amitesh\")\n",
    "naam.name"
   ]
  },
  {
   "cell_type": "markdown",
   "metadata": {},
   "source": [
    "  ## Question 4 -How does Python implement method overloading? Give an example."
   ]
  },
  {
   "cell_type": "code",
   "execution_count": 13,
   "metadata": {},
   "outputs": [],
   "source": [
    "# we can't do method overloading directly , but there's a way we can do it \n",
    "class Student:\n",
    "    def student(self):\n",
    "        print(\"Wecome to pwskills class\")\n",
    "    def student(self, name = \"\"):\n",
    "        print(\"Wecome to pwskills class\", name)\n",
    "    def student(self, name = \"\", course = \"\"):\n",
    "        print(\"Wecome to pwskills class\", name, course)"
   ]
  },
  {
   "cell_type": "code",
   "execution_count": 15,
   "metadata": {},
   "outputs": [
    {
     "name": "stdout",
     "output_type": "stream",
     "text": [
      "Wecome to pwskills class Amitesh \n"
     ]
    }
   ],
   "source": [
    "stu = Student()\n",
    "stu.student(\"Amitesh\")"
   ]
  },
  {
   "cell_type": "code",
   "execution_count": 16,
   "metadata": {},
   "outputs": [
    {
     "name": "stdout",
     "output_type": "stream",
     "text": [
      "Wecome to pwskills class  \n"
     ]
    }
   ],
   "source": [
    "stu.student()"
   ]
  },
  {
   "cell_type": "code",
   "execution_count": 17,
   "metadata": {},
   "outputs": [
    {
     "name": "stdout",
     "output_type": "stream",
     "text": [
      "Wecome to pwskills class amitesh data science\n"
     ]
    }
   ],
   "source": [
    "stu.student(\"amitesh\" , \"data science\")"
   ]
  },
  {
   "cell_type": "markdown",
   "metadata": {},
   "source": [
    "## Question 5 What are the three types of access modifiers in Python? How are they denoted?"
   ]
  },
  {
   "cell_type": "code",
   "execution_count": 23,
   "metadata": {},
   "outputs": [],
   "source": [
    "# 1. Public: By default, all members (variables and methods) of a class are public.\n",
    "# This means they can be accessed from anywhere within the program.\n",
    "# 2. Protected: Members prefixed with a single underscore (_) are considered protected.\n",
    "# This is a convention indicating that they should be accessed only within the class itself or by its subclasses.\n",
    "# 3. Private: Members prefixed with a double underscore (__) are considered private.\n",
    "# Python mangles these names, making them harder to access from outside the class\n",
    "\n",
    "class Modifier:\n",
    "    def __init__(self,name , age , course):\n",
    "        self.name = name #public\n",
    "        self._age = age # protected\n",
    "        self.__course = course # private\n",
    "    def display(self):\n",
    "        print(\"naam hai apka\", self.name)\n",
    "        print(\"age hai apki \" , self._age)\n",
    "        print(\"coruse hai apka\" , self.__course)"
   ]
  },
  {
   "cell_type": "code",
   "execution_count": 24,
   "metadata": {},
   "outputs": [],
   "source": [
    "aa  = Modifier(\"amitesh\" ,18 , \"data science\")"
   ]
  },
  {
   "cell_type": "code",
   "execution_count": 25,
   "metadata": {},
   "outputs": [
    {
     "name": "stdout",
     "output_type": "stream",
     "text": [
      "naam hai apka amitesh\n",
      "age hai apki  18\n",
      "coruse hai apka data science\n"
     ]
    }
   ],
   "source": [
    "aa.display()"
   ]
  },
  {
   "cell_type": "code",
   "execution_count": 26,
   "metadata": {},
   "outputs": [
    {
     "data": {
      "text/plain": [
       "'amitesh'"
      ]
     },
     "execution_count": 26,
     "metadata": {},
     "output_type": "execute_result"
    }
   ],
   "source": [
    "aa.name"
   ]
  },
  {
   "cell_type": "code",
   "execution_count": 27,
   "metadata": {},
   "outputs": [
    {
     "data": {
      "text/plain": [
       "18"
      ]
     },
     "execution_count": 27,
     "metadata": {},
     "output_type": "execute_result"
    }
   ],
   "source": [
    "aa._age"
   ]
  },
  {
   "cell_type": "code",
   "execution_count": 29,
   "metadata": {},
   "outputs": [
    {
     "data": {
      "text/plain": [
       "'data science'"
      ]
     },
     "execution_count": 29,
     "metadata": {},
     "output_type": "execute_result"
    }
   ],
   "source": [
    "aa._Modifier__course"
   ]
  },
  {
   "cell_type": "markdown",
   "metadata": {},
   "source": [
    "##  Question 6  Describe the five types of inheritance in Python. Provide a simple example of multiple inheritance."
   ]
  },
  {
   "cell_type": "code",
   "execution_count": 31,
   "metadata": {},
   "outputs": [],
   "source": [
    "# 1. Single Inheritance: Involves a single base (parent) class and a single derived (child) class.\n",
    "# The child class inherits properties and behaviors from one parent class.\n",
    "# 2. Multiple Inheritance: Involves one derived class inheriting from two or more base classes.\n",
    "# The child class gains properties and behaviors from multiple parent classes. \n",
    "# 3. Multilevel Inheritance: Involves a chain of inheritance where a class is derived from another derived class.\n",
    "# A child class becomes the parent of another child class, forming a hierarchy.\n",
    "# 4. Hierarchical Inheritance: Involves multiple derived classes inheriting from a single base class. One parent class has several child classes.\n",
    "# 5. Hybrid Inheritance:A combination of two or more types of inheritance, like combining multiple and multilevel inheritance.\n",
    "# It uses various forms of inheritance to create a more complex hierarchy."
   ]
  },
  {
   "cell_type": "code",
   "execution_count": 34,
   "metadata": {},
   "outputs": [],
   "source": [
    "#EXAMPLE OF MULTIPLE INHERITANCE\n",
    "class Base1:\n",
    "    def ab(self):\n",
    "        print(\"base 1 \")\n",
    "class Base2:\n",
    "    def bc(self):\n",
    "        print(\"base 2\")\n",
    "class Derived(Base1, Base2):\n",
    "    def cd(self):\n",
    "        print(\"derived class\")"
   ]
  },
  {
   "cell_type": "code",
   "execution_count": 35,
   "metadata": {},
   "outputs": [],
   "source": [
    "ob1 = Derived()"
   ]
  },
  {
   "cell_type": "code",
   "execution_count": 36,
   "metadata": {},
   "outputs": [
    {
     "name": "stdout",
     "output_type": "stream",
     "text": [
      "base 2\n"
     ]
    }
   ],
   "source": [
    "ob1.bc()"
   ]
  },
  {
   "cell_type": "code",
   "execution_count": 37,
   "metadata": {},
   "outputs": [
    {
     "name": "stdout",
     "output_type": "stream",
     "text": [
      "base 1 \n"
     ]
    }
   ],
   "source": [
    "ob1.ab()"
   ]
  },
  {
   "cell_type": "markdown",
   "metadata": {},
   "source": [
    "## Question 7  - What is the Method Resolution Order (MRO) in Python? How can you retrieve it programmatically"
   ]
  },
  {
   "cell_type": "code",
   "execution_count": 81,
   "metadata": {},
   "outputs": [],
   "source": [
    "#MRO stands for Method Resolution Order. In Python, it defines the order in which the interpreter searches for a method in a class hierarchy, \n",
    "#especially when dealing with multiple inheritance.\n",
    "\n",
    "#use case\n",
    "#diamond problem>> it occurs when a class inherits from 2 or more than 2 class>> will lead to ambiguity in execution of methods\n",
    "#To remove diamond problem>> \n",
    " # python uses method resolution order(MRO) algorithm called c3 linearization\n",
    "#meaning that the class that is inherited first in the derived class, that method will be called>>in this case method 1\n",
    "\n",
    "class Parent1:\n",
    "    def method_info(self):\n",
    "        print(\"parent 1 ka method\")\n",
    "class Parent2:\n",
    "    def method_info(self):\n",
    "        print(\"parent 2 ka method\")\n",
    "class Child(Parent1, Parent2): # here parent 1 is written first then it will use be inherited\n",
    "    def bacha(self):\n",
    "        print(\"bache ka method\")"
   ]
  },
  {
   "cell_type": "code",
   "execution_count": 83,
   "metadata": {},
   "outputs": [
    {
     "name": "stdout",
     "output_type": "stream",
     "text": [
      "parent 1 ka method\n"
     ]
    }
   ],
   "source": [
    "c = Child()\n",
    "c.method_info()"
   ]
  },
  {
   "cell_type": "markdown",
   "metadata": {},
   "source": [
    " ## Question 8 - Create an abstract base class `Shape` with an abstract method `area()`. Then create two subclasses`Circle` and `Rectangle` that implement the `area()` method."
   ]
  },
  {
   "cell_type": "code",
   "execution_count": 38,
   "metadata": {},
   "outputs": [],
   "source": [
    "import abc\n",
    "\n",
    "class Shape:\n",
    "    @abc.abstractmethod\n",
    "    def area(self):\n",
    "        pass"
   ]
  },
  {
   "cell_type": "code",
   "execution_count": 41,
   "metadata": {},
   "outputs": [],
   "source": [
    "class Circle(Shape):\n",
    "    def area(self, radius):\n",
    "        print(\"the area of circle is\"  ,3.14*radius*radius)\n",
    "class Rectangle(Shape):\n",
    "    def area(self , l ,b):\n",
    "        print(\"area of rectangle is \" , l*b)"
   ]
  },
  {
   "cell_type": "code",
   "execution_count": 46,
   "metadata": {},
   "outputs": [
    {
     "name": "stdout",
     "output_type": "stream",
     "text": [
      "the area of circle is 78.5\n"
     ]
    }
   ],
   "source": [
    "arrea = Circle()\n",
    "arrea.area(5)"
   ]
  },
  {
   "cell_type": "code",
   "execution_count": 48,
   "metadata": {},
   "outputs": [
    {
     "name": "stdout",
     "output_type": "stream",
     "text": [
      "area of rectangle is  20\n"
     ]
    }
   ],
   "source": [
    "arreaa = Rectangle()\n",
    "arreaa.area(4,5)"
   ]
  },
  {
   "cell_type": "markdown",
   "metadata": {},
   "source": [
    "# QUestion 9 -  Demonstrate polymorphism by creating a function that can work with different shape objects to calculate and print their areas"
   ]
  },
  {
   "cell_type": "code",
   "execution_count": 86,
   "metadata": {},
   "outputs": [
    {
     "name": "stdout",
     "output_type": "stream",
     "text": [
      "The area is: None\n",
      "The area is: 24\n"
     ]
    }
   ],
   "source": [
    "class Shape:\n",
    "    def area(self):\n",
    "        pass\n",
    "class Circle(Shape):\n",
    "    def __init__(self, radius):\n",
    "        self.radius = radius\n",
    "        def area(self):\n",
    "            return 3.1416 * self.radius ** 2  # Area of a circle\n",
    "\n",
    "class Rectangle(Shape):\n",
    "    def __init__(self, width, height):\n",
    "        self.width = width\n",
    "        self.height = height\n",
    "    def area(self):\n",
    "        return self.width * self.height  # Area of a rectangle\n",
    "def print_area(shape):\n",
    "    print(f\"The area is: {shape.area()}\")\n",
    "\n",
    "circle = Circle(5)\n",
    "rectangle = Rectangle(4, 6)\n",
    "\n",
    "print_area(circle)     \n",
    "print_area(rectangle)  \n",
    " \n"
   ]
  },
  {
   "cell_type": "markdown",
   "metadata": {},
   "source": [
    " ## Question 10 Implement encapsulation in a `BankAccount` class with private attributes for `balance` and `account_number`. Include methods for deposit, withdrawal, and balance inquiry."
   ]
  },
  {
   "cell_type": "code",
   "execution_count": 58,
   "metadata": {},
   "outputs": [],
   "source": [
    "class BankAccount:\n",
    "    def __init__(self , balance , account_number):\n",
    "        self.__balance = balance\n",
    "        self.__account_number = account_number\n",
    "    def acc_no(self):\n",
    "        print(f\"this is your account number {self.__account_number}\")\n",
    "    def deposit(self , amount ):\n",
    "        self.__balance = self.__balance + amount\n",
    "    def withdraw(self , amount):\n",
    "        if self.__balance >= amount:\n",
    "            self.__balance = self.__balance - amount\n",
    "        else:\n",
    "            return \"invaild balance\"\n",
    "    def balance_inquiry(self):\n",
    "        return self.__balance\n",
    "    \n",
    "            "
   ]
  },
  {
   "cell_type": "code",
   "execution_count": 65,
   "metadata": {},
   "outputs": [],
   "source": [
    "ob = BankAccount( 500000000 , 6969696969)"
   ]
  },
  {
   "cell_type": "code",
   "execution_count": 66,
   "metadata": {},
   "outputs": [
    {
     "name": "stdout",
     "output_type": "stream",
     "text": [
      "this is your account number 6969696969\n"
     ]
    }
   ],
   "source": [
    "ob.acc_no()"
   ]
  },
  {
   "cell_type": "code",
   "execution_count": 67,
   "metadata": {},
   "outputs": [],
   "source": [
    "ob.deposit(69)"
   ]
  },
  {
   "cell_type": "code",
   "execution_count": 68,
   "metadata": {},
   "outputs": [],
   "source": [
    "ob.withdraw(70)"
   ]
  },
  {
   "cell_type": "code",
   "execution_count": 69,
   "metadata": {},
   "outputs": [
    {
     "data": {
      "text/plain": [
       "499999999"
      ]
     },
     "execution_count": 69,
     "metadata": {},
     "output_type": "execute_result"
    }
   ],
   "source": [
    "ob.balance_inquiry()"
   ]
  },
  {
   "cell_type": "markdown",
   "metadata": {},
   "source": [
    "## Question 11-  Write a class that overrides the `__str__` and `__add__` magic methods. What will these methods allow you to do? "
   ]
  },
  {
   "cell_type": "markdown",
   "metadata": {},
   "source": [
    " ## Question 12 - 12. Create a decorator that measures and prints the execution time of a function."
   ]
  },
  {
   "cell_type": "code",
   "execution_count": 70,
   "metadata": {},
   "outputs": [],
   "source": [
    "import time\n",
    "def timer_dec(func):\n",
    "    def timer():\n",
    "        start =  time.time()\n",
    "        func()\n",
    "        end = time.time()\n",
    "        print(\"the time for excuting \" , end - start)\n",
    "    return timer"
   ]
  },
  {
   "cell_type": "code",
   "execution_count": 71,
   "metadata": {},
   "outputs": [],
   "source": [
    "@timer_dec\n",
    "def func_test():\n",
    "    print(2482*977355)"
   ]
  },
  {
   "cell_type": "code",
   "execution_count": 72,
   "metadata": {},
   "outputs": [
    {
     "name": "stdout",
     "output_type": "stream",
     "text": [
      "2425795110\n",
      "the time for excuting  0.0010013580322265625\n"
     ]
    }
   ],
   "source": [
    "func_test()"
   ]
  },
  {
   "cell_type": "markdown",
   "metadata": {},
   "source": [
    " ## Question - 13 Explain the concept of the Diamond Problem in multiple inheritance. How does Python resolve it"
   ]
  },
  {
   "cell_type": "code",
   "execution_count": 73,
   "metadata": {},
   "outputs": [],
   "source": [
    "#diamond problem>> it occurs when a class inherits from 2 or more than 2 class>> will lead to ambiguity in execution of methods\n",
    "#To remove diamond problem>> python uses method resolution order(MRO) algorithm called c3 linearization\n",
    "#meaning that the class that is inherited first in the derived class, that method will be called>>in this case method 1\n",
    "\n",
    "class A:\n",
    "    def methd(self):\n",
    "        print(\"method of A\")\n",
    "class B(A):\n",
    "    def methd(self):\n",
    "        print(\"method of B\")\n",
    "class C(A):\n",
    "    def methd(self):\n",
    "        print(\"method of c \")\n",
    "class D(C,B): # here c is first so this will be executed\n",
    "    def bacha(self):\n",
    "        print(\"bache ka method\")"
   ]
  },
  {
   "cell_type": "code",
   "execution_count": 74,
   "metadata": {},
   "outputs": [
    {
     "name": "stdout",
     "output_type": "stream",
     "text": [
      "method of c \n"
     ]
    }
   ],
   "source": [
    "o = D()\n",
    "o.methd()"
   ]
  },
  {
   "cell_type": "markdown",
   "metadata": {},
   "source": [
    "## Question 14 - Write a class method that keeps track of the number of instances created from a class"
   ]
  },
  {
   "cell_type": "code",
   "execution_count": 76,
   "metadata": {},
   "outputs": [
    {
     "name": "stdout",
     "output_type": "stream",
     "text": [
      "2\n"
     ]
    }
   ],
   "source": [
    "class InstanceTracker:\n",
    "    instance_count = 0\n",
    "    def __init__(self):\n",
    "        InstanceTracker.instance_count += 1\n",
    "    @classmethod\n",
    "    def get_instance_count(cls):\n",
    "        return cls.instance_count\n",
    "\n",
    "obj1 = InstanceTracker()\n",
    "obj2 = InstanceTracker()\n",
    "print(InstanceTracker.get_instance_count()) \n"
   ]
  },
  {
   "cell_type": "markdown",
   "metadata": {},
   "source": [
    "## Question 15 -Implement a static method in a class that checks if a given year is a leap year"
   ]
  },
  {
   "cell_type": "code",
   "execution_count": 79,
   "metadata": {},
   "outputs": [],
   "source": [
    "class EvenOdd:\n",
    "    @staticmethod\n",
    "    def is_leap_year(year):\n",
    "        \n",
    "        if (year % 4 == 0 and year % 100 != 0) or (year % 400 == 0):\n",
    "            print(\"the given year is leap \")\n",
    "        else:\n",
    "            print(\"the given year is not leap\")"
   ]
  },
  {
   "cell_type": "code",
   "execution_count": 80,
   "metadata": {},
   "outputs": [
    {
     "name": "stdout",
     "output_type": "stream",
     "text": [
      "the given year is leap \n"
     ]
    }
   ],
   "source": [
    "EvenOdd.is_leap_year(2004)"
   ]
  },
  {
   "cell_type": "code",
   "execution_count": null,
   "metadata": {},
   "outputs": [],
   "source": []
  }
 ],
 "metadata": {
  "kernelspec": {
   "display_name": "Python 3 (ipykernel)",
   "language": "python",
   "name": "python3"
  },
  "language_info": {
   "codemirror_mode": {
    "name": "ipython",
    "version": 3
   },
   "file_extension": ".py",
   "mimetype": "text/x-python",
   "name": "python",
   "nbconvert_exporter": "python",
   "pygments_lexer": "ipython3",
   "version": "3.11.3"
  },
  "widgets": {
   "application/vnd.jupyter.widget-state+json": {
    "state": {},
    "version_major": 2,
    "version_minor": 0
   }
  }
 },
 "nbformat": 4,
 "nbformat_minor": 4
}

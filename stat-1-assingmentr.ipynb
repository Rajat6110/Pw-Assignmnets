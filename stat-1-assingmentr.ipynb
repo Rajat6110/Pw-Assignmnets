{
 "cells": [
  {
   "cell_type": "code",
   "execution_count": 2,
   "id": "a1009326-ce45-4433-8f73-0c346ff85d29",
   "metadata": {},
   "outputs": [],
   "source": [
    "# question - 1. Explain the different types of data (qualitative and quantitative) and provide examples of each. Discuss\n",
    "#nominal, ordinal, interval, and ratio scales\n",
    "\n",
    "\n",
    "\n",
    "# ans = 1. Qualitative Data (Categorical Data)\n",
    "# Qualitative data describes categories or characteristics and cannot be measured numerically (though they can sometimes be coded with numbers for convenience).\n",
    "\n",
    "# a. Nominal Scale\n",
    "# Definition: Categorizes data without any order or ranking.\n",
    "\n",
    "# Key Feature: No inherent order; only labels.\n",
    "\n",
    "# Examples:\n",
    "\n",
    "# Gender: Male, Female, Other\n",
    "\n",
    "# Blood Type: A, B, AB, O\n",
    "\n",
    "# Eye Color: Brown, Blue, Green\n",
    "\n",
    "# b. Ordinal Scale\n",
    "# Definition: Categorizes data with a meaningful order, but the intervals between categories are not uniform or known.\n",
    "\n",
    "# Key Feature: Ordered categories without consistent spacing.\n",
    "\n",
    "# Examples:\n",
    "\n",
    "# Education level: High School < Bachelor < Master < PhD\n",
    "\n",
    "# Customer satisfaction: Poor, Fair, Good, Excellent\n",
    "\n",
    "# Movie ratings: 1-star, 2-star, ..., 5-star\n",
    "\n",
    "# 2. Quantitative Data (Numerical Data)\n",
    "# Quantitative data consists of numbers and represents measurable quantities. It can be analyzed using arithmetic operations.\n",
    "\n",
    "# a. Interval Scale\n",
    "# Definition: Numerical data with equal intervals between values, but no true zero.\n",
    "\n",
    "# Key Feature: Differences are meaningful; ratios are not.\n",
    "\n",
    "# Examples:\n",
    "\n",
    "# Temperature in Celsius or Fahrenheit (0°C ≠ absence of temperature)\n",
    "\n",
    "# Dates in a calendar (e.g., 2000, 2020 — intervals matter, but no absolute zero)\n",
    "\n",
    "# b. Ratio Scale\n",
    "# Definition: Like interval data but has a true zero, allowing for meaningful ratios.\n",
    "\n",
    "# Key Feature: Both differences and ratios are meaningful.\n",
    "\n",
    "# Examples:\n",
    "\n",
    "# Height, Weight, Age, Distance\n",
    "\n",
    "# Income (₹0 means no income)\n",
    "\n",
    "# Time duration (0 seconds means no time elapsed)\n",
    "\n",
    "\n",
    "\n"
   ]
  },
  {
   "cell_type": "code",
   "execution_count": 4,
   "id": "fe60b4fc-4c8b-4ceb-ad71-fd98e96f58b6",
   "metadata": {},
   "outputs": [],
   "source": [
    "# question - 2 What are the measures of central tendency, and when should you use each? Discuss the mean, median,\n",
    "# and mode with examples and situations where each is appropriate.\n",
    "\n",
    "# ans - \n",
    "# Measures of central tendency are statistical measures used to determine the center or typical value of a dataset. The three main measures are mean, median, and mode. Each has its own strengths and is suitable for different types of data and situations.\n",
    "\n",
    "# 1. Mean (Arithmetic Average)\n",
    "# Definition:\n",
    "# The mean is the sum of all values divided by the number of values. \n",
    "# Example:\n",
    "# Test scores: 70, 75, 80, 85, 90\n",
    "# Mean = (70 + 75 + 80 + 85 + 90) / 5 = 80\n",
    "# When to Use: Data is quantitative and normally distributed,\n",
    "# No extreme outliers\n",
    "# Not Ideal When:\n",
    "# Outliers are present, as they can skew the mean\n",
    "# 2. Median\n",
    "# Definition:\n",
    "# The median is the middle value in an ordered dataset.\n",
    "# If odd number of values → middle value\n",
    "# If even number of values → average of the two middle values\n",
    "\n",
    "# example:\n",
    "# House prices (in lakhs): 30, 35, 40, 45, 200\n",
    "# Sorted: 30, 35, 40, 45, 200\n",
    "# Median = 40 (middle value)\n",
    "\n",
    "# When to Use:\n",
    "# Data is skewed or contains outliers\n",
    "# ,Use for income, house prices, etc.\n",
    "# Not Ideal When:\n",
    "# Dataset is small and doesn't represent distribution well\n",
    "\n",
    "# 3. Mode\n",
    "# Definition:\n",
    "# The mode is the value(s) that occur most frequently in a dataset.\n",
    "# Example:\n",
    "# Shoe sizes: 7, 8, 8, 8, 9, 9, 10\n",
    "# Mode = 8 (appears most often)\n",
    "# When to Use:\n",
    "# Data is categorical or discrete,\n",
    "# Useful to find most common category or value\n",
    "# ,When distribution is multimodal (multiple peaks)\n",
    "\n",
    "# Not Ideal When:\n",
    "# All values occur with same frequency (no clear mode)\n",
    "\n"
   ]
  },
  {
   "cell_type": "code",
   "execution_count": 6,
   "id": "551e19c6-6dc6-4e61-9ca0-8331cc9e867c",
   "metadata": {},
   "outputs": [],
   "source": [
    " #3 .Explain the concept of dispersion. How do variance and standard deviation measure the spread of data?"
   ]
  },
  {
   "cell_type": "code",
   "execution_count": 8,
   "id": "201da36e-6d9e-4124-a039-f5f9fb181218",
   "metadata": {},
   "outputs": [],
   "source": [
    "# Dispersion refers to the extent to which data values vary or spread out around a central value like the mean.\n",
    "# While measures of central tendency (mean, median, mode) describe the center of a dataset,\n",
    "# dispersion tells us how much the data values deviate from that center, \n",
    "# helping us understand the consistency or variability in the data.\n",
    "# Two of the most commonly used measures of dispersion are variance and standard deviation.\n",
    "\n",
    "# Variance calculates the average of the squared differences between each data point and the mean.\n",
    "#     It gives an idea of how much the values in a dataset differ from the mean, \n",
    "# but since it's in squared units, it’s not always intuitive. Standard deviation is the square root of the variance, \n",
    "# which brings the measure back to the original units of the data, making it more interpretable.\n",
    "# A small standard deviation means the data points are closely clustered around the mean (low variability), \n",
    "# while a large standard deviation indicates that the data is spread out over a wider range (high variability).\n",
    "#Both metrics are essential in fields like finance, engineering, and science for assessing risk, consistency, and reliability in data."
   ]
  },
  {
   "cell_type": "code",
   "execution_count": 10,
   "id": "311ba324-5401-4c09-b91a-39edda9ef176",
   "metadata": {},
   "outputs": [],
   "source": [
    "#4 4. What is a box plot, and what can it tell you about the distribution of data?"
   ]
  },
  {
   "cell_type": "code",
   "execution_count": 12,
   "id": "f1a914af-077c-4530-ac18-d0ac166eaf1c",
   "metadata": {},
   "outputs": [],
   "source": [
    "#  box plot, also known as a box-and-whisker plot, is a standardized way of visually representing the distribution of a dataset based on its five-number summary:\n",
    "\n",
    "# Minimum: The smallest value in the dataset.\n",
    "# First Quartile (Q1): The value below which 25% of the data falls. It marks the lower end of the box.\n",
    "# Median (Q2): The middle value of the dataset when it's ordered. It's represented by a line inside the box.\n",
    "# Third Quartile (Q3): The value below which 75% of the data falls. It marks the upper end of the box.\n",
    "# Maximum: The largest value in the dataset.\n",
    "# The plot itself consists of:\n",
    "\n",
    "# A box that spans from the first quartile (Q1) to the third quartile (Q3). This box contains the middle 50% of the data, known as the interquartile range (IQR).\n",
    "\n",
    "# A line inside the box that indicates the median (Q2).\n",
    "# Whiskers that extend from the ends of the box to the minimum and maximum values within a certain range. Typically, the whiskers extend to the furthest data point that is within 1.5 times the IQR from the quartiles.\n",
    "\n",
    "# Outliers which are data points that fall outside the whiskers. These are usually plotted as individual points (dots, circles, or asterisks)."
   ]
  },
  {
   "cell_type": "code",
   "execution_count": 14,
   "id": "ee1e490a-ce4f-487b-9afd-01b31bb42645",
   "metadata": {},
   "outputs": [],
   "source": [
    "# 5 . Discuss the role of random sampling in making inferences about populations."
   ]
  },
  {
   "cell_type": "code",
   "execution_count": 16,
   "id": "ba8c81ea-f285-49aa-82b9-48427dc24196",
   "metadata": {},
   "outputs": [],
   "source": [
    "# **Random sampling** plays a crucial role in making valid and reliable **inferences about a population** based on a **sample**.\n",
    "# It is a technique where **each member of the population has an equal chance of being selected**,\n",
    "# ensuring that the sample is **unbiased** and **representative** of the entire population.\n",
    "\n",
    "# The main purpose of random sampling is to collect data that reflects the characteristics of a larger group without studying every individual,\n",
    "# which is often impractical or impossible. By using random sampling, researchers can apply **statistical methods** to draw conclusions,\n",
    "# estimate population parameters (like mean or proportion), and test hypotheses with a known level of confidence.\n",
    "# Since random sampling reduces selection bias and increases the **generalizability** of results, it is a foundation for accurate\n",
    "# **inferential statistics**. For example, if a political analyst wants to predict election outcomes,\n",
    "# a randomly selected group of voters can provide meaningful insights about the entire voter population.\n",
    "# Without random sampling, conclusions drawn from a sample could be misleading due to hidden patterns or biases in the selection process.\n",
    "\n"
   ]
  },
  {
   "cell_type": "code",
   "execution_count": 18,
   "id": "841beed1-efa7-4d3a-bce8-7404940b7fd8",
   "metadata": {},
   "outputs": [],
   "source": [
    "#6 Explain the concept of skewness and its types. How does skewness affect the interpretation of data"
   ]
  },
  {
   "cell_type": "code",
   "execution_count": 20,
   "id": "a078b055-946e-4e75-9b13-c2e44308afdc",
   "metadata": {},
   "outputs": [],
   "source": [
    "# Skewness is a statistical measure that describes the asymmetry or lack of symmetry in a data distribution. In a perfectly symmetrical distribution, like the normal distribution, the mean, median, and mode are equal and the skewness is zero. However, real-world data often deviates from symmetry, and skewness helps us understand the direction and degree of this asymmetry.\n",
    "# Types of Skewness:\n",
    "# Positive Skew (Right Skewed):\n",
    "# The tail on the right side of the distribution is longer.\n",
    "# Most data values are concentrated on the left.\n",
    "# Mean > Median > Mode\n",
    "# Example: Income distribution in a country, where a few people earn extremely high salaries.\n",
    "\n",
    "# Negative Skew (Left Skewed):\n",
    "# The tail on the left side is longer.\n",
    "# Most data values are concentrated on the right.\n",
    "# Mean < Median < Mode\n",
    "# Example: Age at retirement, where most people retire around a similar age but some retire very early.\n",
    "\n",
    "# Zero Skew (Symmetrical Distribution):\n",
    "# The data is evenly distributed.\n",
    "# Mean = Median = Mode\n",
    "# Example: Height of adult men in a large population.\n",
    "\n",
    "# Effect of Skewness on Data Interpretation:\n",
    "# Skewness affects how we summarize and analyze data. In skewed distributions, the mean is pulled toward the tail,\n",
    "# making it less reliable as a measure of central tendency. In such cases, the median is often a better indicator of the \"typical\" value.\n",
    "# Skewness also impacts statistical tests and assumptions; many statistical methods assume normality (no skew), \n",
    "# so high skewness might require data transformation or the use of non-parametric methods. Recognizing skewness is important for accurate analysis, \n",
    "# interpretation, and decision-making based on data."
   ]
  },
  {
   "cell_type": "code",
   "execution_count": 22,
   "id": "39bf1b00-6658-42b1-915d-56928bfd4f04",
   "metadata": {},
   "outputs": [],
   "source": [
    "#7. What is the interquartile range (IQR), and how is it used to detect outliers "
   ]
  },
  {
   "cell_type": "code",
   "execution_count": 24,
   "id": "0056697c-5832-4628-9c3a-18a65191aade",
   "metadata": {},
   "outputs": [],
   "source": [
    "# The Interquartile Range (IQR) is a measure of statistical dispersion that describes the middle 50% of a dataset. It is calculated as the difference between the third quartile (Q3) and the first quartile (Q1):\n",
    "\n",
    "# IQR=𝑄3−𝑄1\n",
    "# IQR=Q3−Q1\n",
    "# Q1 (25th percentile): The value below which 25% of the data falls.\n",
    "# Q3 (75th percentile): The value below which 75% of the data falls.\n",
    "\n",
    "# How IQR is Used to Detect Outliers:\n",
    "# Outliers are extreme values that lie far from the rest of the data. The IQR helps in identifying these values using the following rule:\n",
    "# Lower Bound = Q1 − 1.5 × IQR\n",
    "# Upper Bound = Q3 + 1.5 × IQR\n",
    "# Any data point below the lower bound or above the upper bound is considered an outlier.\n"
   ]
  },
  {
   "cell_type": "code",
   "execution_count": 28,
   "id": "4904ec6a-f94f-423d-b31e-bab8a9708c3e",
   "metadata": {},
   "outputs": [],
   "source": [
    " #8 Discuss the conditions under which the binomial distribution is used"
   ]
  },
  {
   "cell_type": "code",
   "execution_count": 30,
   "id": "8a3aad2e-171c-42dc-8a75-30194e4dbb15",
   "metadata": {},
   "outputs": [],
   "source": [
    "# The **binomial distribution** is used when modeling the number of successes in a fixed number of independent and identical \n",
    "# Bernoulli trials**, where each trial has only two possible outcomes: **success** or **failure**. For the binomial distribution to be applicable,\n",
    "# certain conditions must be met. First, there must be a **fixed number of trials** (denoted as *n*), and each trial must be **independent**, \n",
    "# meaning the outcome of one trial does not affect the others. Second, the **probability of success (p)** must remain **constant** for each trial.\n",
    "# Lastly, the outcome of each trial must be **binary**, such as win/loss, yes/no, or pass/fail. When these conditions are satisfied, \n",
    "# the binomial distribution is ideal for calculating the probability of obtaining a certain number of successes in *n* trials. \n",
    "# For example, it can be used to model the likelihood of getting exactly 3 heads in 5 coin tosses or \n",
    "# determining the probability of passing a quality check in manufacturing processes.\n"
   ]
  },
  {
   "cell_type": "code",
   "execution_count": 32,
   "id": "5e7b3df1-2e5a-4cd5-ae7a-577b628984c7",
   "metadata": {},
   "outputs": [],
   "source": [
    "#9- Explain the properties of the normal distribution and the empirical rule (68-95-99.7 rule)."
   ]
  },
  {
   "cell_type": "code",
   "execution_count": 34,
   "id": "a79bbd0b-a984-4158-969e-245e2508a899",
   "metadata": {},
   "outputs": [],
   "source": [
    "# The normal distribution, also known as the Gaussian distribution, is a continuous probability distribution that is symmetrical and\n",
    "# bell-shaped, describing how data is distributed around the mean. It is one of the most important distributions in statistics \n",
    "# because many natural phenomena (like heights, test scores, and measurement errors) tend to follow this pattern.\n",
    "\n",
    "# Properties of the Normal Distribution:\n",
    "# Symmetrical Shape: The left and right halves of the curve are mirror images.\n",
    "# Mean = Median = Mode: All three measures of central tendency are equal and located at the center of the distribution.\n",
    "# Bell-Shaped Curve: The curve rises to a peak at the mean and tails off equally on both sides.\n",
    "# Asymptotic: The tails approach, but never touch, the horizontal axis.\n",
    "# Area under the Curve: The total area under the curve is 1, representing 100% probability.\n",
    "# Defined by Two Parameters:\n",
    "# Mean (μ): Determines the location of the center of the graph.\n",
    "# Standard Deviation (σ): Determines the spread or width of the graph.\n",
    "\n",
    "# Empirical Rule (68-95-99.7 Rule):\n",
    "# This rule describes how data is distributed in a normal distribution in terms of standard deviations from the mean:\n",
    "# 68% of the data lies within 1 standard deviation (±1σ) of the mean.\n",
    "# 95% of the data lies within 2 standard deviations (±2σ) of the mean.\n",
    "# 99.7% of the data lies within 3 standard deviations (±3σ) of the mean.\n",
    "\n"
   ]
  },
  {
   "cell_type": "code",
   "execution_count": 36,
   "id": "68c51179-5c90-44ab-990a-ae31438ba4f3",
   "metadata": {},
   "outputs": [],
   "source": [
    "#11 Explain what a random variable is and differentiate between discrete and continuous random variables."
   ]
  },
  {
   "cell_type": "code",
   "execution_count": 38,
   "id": "de6856fb-7933-4e5b-b7ed-8c67aeb06e74",
   "metadata": {},
   "outputs": [],
   "source": [
    "# A random variable is a numerical outcome of a random phenomenon or experiment. \n",
    "# It assigns a real number to each possible outcome in a sample space, allowing us to quantify and analyze uncertainty using probability.\n",
    "# Essentially, it’s a function that maps outcomes to numbers.\n",
    "\n",
    "# Types of Random Variables:\n",
    "# Discrete Random Variable\n",
    "# Takes on countable values, often integers.\n",
    "# values can be listed out (finite or infinite but countable).\n",
    "# Example: Number of heads when flipping 3 coins (0, 1, 2, or 3), number of customer arrivals in an hour.\n",
    "\n",
    "# continuous Random Variable\n",
    "# Takes on uncountably infinite values within an interval or range.\n",
    "# Can assume any value within a given range, often measurements.\n",
    "# Example: Height of students in a class, time taken to run a race, temperature in a city."
   ]
  },
  {
   "cell_type": "code",
   "execution_count": 40,
   "id": "8c517daf-8c11-472f-aee0-f32e4b942233",
   "metadata": {},
   "outputs": [],
   "source": [
    "# 12. Provide an example dataset, calculate both covariance and correlation, and interpret the results.\n"
   ]
  },
  {
   "cell_type": "code",
   "execution_count": 42,
   "id": "9c255c41-f0c3-493e-ad5b-eb19854d427e",
   "metadata": {},
   "outputs": [
    {
     "name": "stdout",
     "output_type": "stream",
     "text": [
      "Covariance between X and Y: 18.0\n",
      "Correlation coefficient between X and Y: 0.9954022744967957\n"
     ]
    }
   ],
   "source": [
    "import numpy as np\n",
    "\n",
    "# Example data\n",
    "X = np.array([2, 4, 6, 8, 10])\n",
    "Y = np.array([5, 9, 12, 15, 20])\n",
    "\n",
    "# Calculate covariance matrix\n",
    "cov_matrix = np.cov(X, Y)\n",
    "cov_xy = cov_matrix[0, 1]\n",
    "\n",
    "# Calculate correlation coefficient matrix\n",
    "corr_matrix = np.corrcoef(X, Y)\n",
    "corr_xy = corr_matrix[0, 1]\n",
    "\n",
    "print(f\"Covariance between X and Y: {cov_xy}\")\n",
    "print(f\"Correlation coefficient between X and Y: {corr_xy}\")\n",
    "\n"
   ]
  },
  {
   "cell_type": "code",
   "execution_count": null,
   "id": "eddc15be-bbc0-4460-99b8-ecce4519fb3d",
   "metadata": {},
   "outputs": [],
   "source": []
  }
 ],
 "metadata": {
  "kernelspec": {
   "display_name": "Python 3 (ipykernel)",
   "language": "python",
   "name": "python3"
  },
  "language_info": {
   "codemirror_mode": {
    "name": "ipython",
    "version": 3
   },
   "file_extension": ".py",
   "mimetype": "text/x-python",
   "name": "python",
   "nbconvert_exporter": "python",
   "pygments_lexer": "ipython3",
   "version": "3.12.7"
  }
 },
 "nbformat": 4,
 "nbformat_minor": 5
}

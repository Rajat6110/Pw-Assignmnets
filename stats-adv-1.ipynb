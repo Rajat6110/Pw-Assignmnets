{
 "cells": [
  {
   "cell_type": "markdown",
   "metadata": {},
   "source": [
    "## Question 1\n",
    "\n",
    "Define the z-statistic and explain its relationship to the standard normal distribution. How is the z-statistic used in hypothesis testing?"
   ]
  },
  {
   "cell_type": "code",
   "metadata": {},
   "source": [
    "# The z-statistic (z-score) measures how many standard deviations an observation is from the mean.\n",
    "# Formula: z = (X - mu) / sigma\n",
    "# Where X is your sample value or mean, mu is the population mean, and sigma is the standard deviation.\n",
    "# The z-statistic corresponds to the standard normal distribution (mean=0, std=1).\n",
    "# In hypothesis testing, it tells us how extreme our observed value is under the null hypothesis.\n",
    "\n",
    "X = 110  # sample value\n",
    "mu = 100  # population mean\n",
    "sigma = 15  # population std dev\n",
    "z = (X - mu) / sigma\n",
    "print(f\"Z-statistic: {z:.2f}\")"
   ]
  },
  {
   "cell_type": "markdown",
   "metadata": {},
   "source": [
    "## Question 2\n",
    "\n",
    "What is a p-value, and how is it used in hypothesis testing? What does it mean if the p-value is very small (e.g., 0.01)?"
   ]
  },
  {
   "cell_type": "code",
   "metadata": {},
   "source": [
    "# The p-value is the probability of observing test results at least as extreme as the observed results, under the null hypothesis.\n",
    "# A small p-value (e.g., 0.01) suggests strong evidence against the null hypothesis.\n",
    "from scipy.stats import norm\n",
    "z = 2.5\n",
    "p_value = 2 * (1 - norm.cdf(abs(z)))  # two-tailed\n",
    "print(f\"P-value: {p_value:.4f}\")"
   ]
  },
  {
   "cell_type": "markdown",
   "metadata": {},
   "source": [
    "## Question 3\n",
    "\n",
    "Compare and contrast the binomial and Bernoulli distributions."
   ]
  },
  {
   "cell_type": "code",
   "metadata": {},
   "source": [
    "# A Bernoulli distribution models a single success/failure experiment (n=1, parameter p).\n",
    "# A binomial distribution generalizes this to n independent trials with probability p.\n",
    "from scipy.stats import bernoulli, binom\n",
    "p = 0.7\n",
    "n = 5\n",
    "# Bernoulli: single trial\n",
    "print(\"Bernoulli Probabilities:\")\n",
    "print(f\"P(X=1): {bernoulli.pmf(1, p)}; P(X=0): {bernoulli.pmf(0, p)}\")\n",
    "# Binomial: 5 trials\n",
    "print(\"Binomial Probabilities for k=0 to 3:\")\n",
    "for k in range(4):\n",
    "    print(f\"P(X={k}): {binom.pmf(k, n, p):.4f}\")"
   ]
  },
  {
   "cell_type": "markdown",
   "metadata": {},
   "source": [
    "## Question 4\n",
    "\n",
    "Under what conditions is the binomial distribution used, and how does it relate to the Bernoulli distribution?"
   ]
  },
  {
   "cell_type": "code",
   "metadata": {},
   "source": [
    "# Binomial is used when:\n",
    "#  - Each trial is independent\n",
    "#  - Each trial has two outcomes (success/failure)\n",
    "#  - Fixed number of trials (n)\n",
    "#  - Probability of success (p) is constant.\n",
    "# Bernoulli is a special case of Binomial with n=1.\n",
    "n = 1\n",
    "p = 0.7\n",
    "print(f\"Bernoulli P(X=1): {bernoulli.pmf(1, p)}\")\n",
    "print(f\"Binomial (n=1) P(X=1): {binom.pmf(1, n, p)}\")"
   ]
  },
  {
   "cell_type": "markdown",
   "metadata": {},
   "source": [
    "## Question 5\n",
    "\n",
    "What are the key properties of the Poisson distribution, and when is it appropriate to use this distribution?"
   ]
  },
  {
   "cell_type": "code",
   "metadata": {},
   "source": [
    "# Poisson models the number of events happening in a fixed interval of time/space,\n",
    "# given a known constant mean rate (lambda), with independent events.\n",
    "# Mean = Variance = lambda.\n",
    "# Use Poisson when events are independent, rare, and the probability of two events at the exact same instant is zero.\n",
    "from scipy.stats import poisson\n",
    "lam = 4\n",
    "print(f\"Probability of observing 2 events: {poisson.pmf(2, lam):.4f}\")\n",
    "print(f\"Mean: {lam}, Variance: {lam}\")"
   ]
  },
  {
   "cell_type": "markdown",
   "metadata": {},
   "source": [
    "## Question 6\n",
    "\n",
    "Define the terms \"probability distribution\" and \"probability density function\" (PDF). How does a PDF differ from a probability mass function (PMF)?"
   ]
  },
  {
   "cell_type": "code",
   "metadata": {},
   "source": [
    "# Probability distribution: Describes how probabilities are distributed over possible values of a random variable.\n",
    "# PDF: For continuous variables, describes relative likelihood at each value; total area under the curve = 1.\n",
    "# PMF: For discrete variables, gives actual probability for each value (sum = 1).\n",
    "from scipy.stats import norm, binom\n",
    "print(f\"Normal PDF at x=0: {norm.pdf(0):.4f}\")\n",
    "print(f\"Binomial PMF n=5, p=0.5, k=2: {binom.pmf(2, 5, 0.5):.4f}\")"
   ]
  },
  {
   "cell_type": "markdown",
   "metadata": {},
   "source": [
    "## Question 7\n",
    "\n",
    "Explain the Central Limit Theorem (CLT) with example."
   ]
  },
  {
   "cell_type": "code",
   "metadata": {},
   "source": [
    "# CLT: For large sample sizes, the sampling distribution of the mean is approximately normal,\n",
    "# regardless of the population's distribution.\n",
    "import numpy as np\n",
    "import matplotlib.pyplot as plt\n",
    "means = [np.mean(np.random.exponential(scale=2, size=30)) for _ in range(10000)]\n",
    "plt.hist(means, bins=40, density=True, alpha=0.7)\n",
    "plt.title(\"CLT: Distribution of 10,000 sample means (n=30)\")\n",
    "plt.xlabel(\"Sample Mean\")\n",
    "plt.ylabel(\"Density\")\n",
    "plt.show()"
   ]
  },
  {
   "cell_type": "markdown",
   "metadata": {},
   "source": [
    "## Question 8\n",
    "\n",
    "Compare z-scores and t-scores. When should you use a z-score, and when should a t-score be applied instead?"
   ]
  },
  {
   "cell_type": "code",
   "metadata": {},
   "source": [
    "# Use a z-score when the population standard deviation is known and sample size is large (n > 30).\n",
    "# Use a t-score when the population std dev is unknown and sample size is small (n <= 30).\n",
    "# t-distribution has fatter tails. As n increases, t approaches z.\n",
    "from scipy.stats import t\n",
    "sample_mean = 107\n",
    "pop_mean = 100\n",
    "sample_std = 12\n",
    "n = 10\n",
    "t_score = (sample_mean - pop_mean) / (sample_std / np.sqrt(n))\n",
    "print(f\"T-score: {t_score:.2f}\")"
   ]
  },
  {
   "cell_type": "markdown",
   "metadata": {},
   "source": [
    "## Question 9\n",
    "\n",
    "Given a sample mean of 105, a population mean of 100, a standard deviation of 15, and a sample size of 25, calculate the z-score and p-value. Based on a significance level of 0.05, do you reject or fail to reject the null hypothesis?\n",
    "\n",
    "Task: Write Python code to calculate the z-score and p-value for the given data.\n",
    "Objective: Apply the formula for the z-score and interpret the p-value for hypothesis testing."
   ]
  },
  {
   "cell_type": "code",
   "metadata": {},
   "source": [
    "sample_mean = 105\n",
    "pop_mean = 100\n",
    "std_dev = 15\n",
    "n = 25\n",
    "z_score = (sample_mean - pop_mean) / (std_dev / np.sqrt(n))\n",
    "from scipy.stats import norm\n",
    "p_val = 2 * (1 - norm.cdf(abs(z_score)))  # two-tailed test\n",
    "print(f\"Z-score: {z_score:.2f}\")\n",
    "print(f\"P-value: {p_val:.4f}\")\n",
    "alpha = 0.05\n",
    "if p_val < alpha:\n",
    "    print(\"Reject the null hypothesis at alpha=0.05.\")\n",
    "else:\n",
    "    print(\"Fail to reject the null hypothesis at alpha=0.05.\")"
   ]
  },
  {
   "cell_type": "markdown",
   "metadata": {},
   "source": [
    "## Question 10\n",
    "\n",
    "Simulate a binomial distribution with 10 trials and a probability of success of 0.6 using Python. Generate 1,000 samples and plot the distribution. What is the expected mean and variance?\n",
    "\n",
    "Task: Use Python to generate the data, plot the distribution, and calculate the mean and variance.\n",
    "Objective: Understand the properties of a binomial distribution and verify them through simulation."
   ]
  },
  {
   "cell_type": "code",
   "metadata": {},
   "source": [
    "n = 10\n",
    "p = 0.6\n",
    "np.random.seed(42)\n",
    "samples = np.random.binomial(n, p, 1000)\n",
    "import matplotlib.pyplot as plt\n",
    "plt.hist(samples, bins=range(0, n+2), align='left', rwidth=0.8)\n",
    "plt.xlabel(\"Number of successes\")\n",
    "plt.ylabel(\"Frequency\")\n",
    "plt.title(\"Binomial distribution simulation (n=10, p=0.6, 1000 samples)\")\n",
    "plt.show()\n",
    "print(f\"Sample mean: {np.mean(samples):.2f}\")\n",
    "print(f\"Theoretical mean: {n * p}\")\n",
    "print(f\"Sample variance: {np.var(samples):.2f}\")\n",
    "print(f\"Theoretical variance: {n * p * (1-p):.2f}\")"
   ]
  }
 ],
 "metadata": {
  "kernelspec": {
   "display_name": "Python 3",
   "language": "python",
   "name": "python3"
  },
  "language_info": {
   "name": "python",
   "version": "3.10"
  }
 },
 "nbformat": 4,
 "nbformat_minor": 2
}
